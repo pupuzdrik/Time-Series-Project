{
 "cells": [
  {
   "cell_type": "markdown",
   "metadata": {},
   "source": [
    "# Project description\n",
    "\n",
    "Sweet Lift Taxi company has collected historical data on taxi orders at airports. To attract more drivers during peak hours, we need to predict the amount of taxi orders for the next hour. Build a model for such a prediction.\n",
    "\n",
    "The RMSE metric on the test set should not be more than 48.\n",
    "\n",
    "## Project instructions\n",
    "\n",
    "1. Download the data and resample it by one hour.\n",
    "2. Analyze the data.\n",
    "3. Train different models with different hyperparameters. The test sample should be 10% of the initial dataset. \n",
    "4. Test the data using the test sample and provide a conclusion.\n",
    "\n",
    "## Data description\n",
    "\n",
    "The data is stored in file `taxi.csv`. The number of orders is in the '*num_orders*' column."
   ]
  },
  {
   "cell_type": "markdown",
   "metadata": {},
   "source": [
    "## Preparation and Analysis."
   ]
  },
  {
   "cell_type": "code",
   "execution_count": 382,
   "metadata": {},
   "outputs": [
    {
     "name": "stdout",
     "output_type": "stream",
     "text": [
      "Requirement already satisfied: sidetable in /opt/conda/lib/python3.9/site-packages (0.9.0)\r\n",
      "Requirement already satisfied: pandas>=1.0 in /opt/conda/lib/python3.9/site-packages (from sidetable) (1.2.4)\r\n",
      "Requirement already satisfied: python-dateutil>=2.7.3 in /opt/conda/lib/python3.9/site-packages (from pandas>=1.0->sidetable) (2.8.1)\r\n",
      "Requirement already satisfied: pytz>=2017.3 in /opt/conda/lib/python3.9/site-packages (from pandas>=1.0->sidetable) (2021.1)\r\n",
      "Requirement already satisfied: numpy>=1.16.5 in /opt/conda/lib/python3.9/site-packages (from pandas>=1.0->sidetable) (1.21.1)\r\n",
      "Requirement already satisfied: six>=1.5 in /opt/conda/lib/python3.9/site-packages (from python-dateutil>=2.7.3->pandas>=1.0->sidetable) (1.16.0)\r\n"
     ]
    }
   ],
   "source": [
    "import pandas as pd\n",
    "import numpy as np\n",
    "import math \n",
    "!pip install sidetable\n",
    "import sidetable as stb\n",
    "import re\n",
    "import matplotlib.pyplot as plt\n",
    "import seaborn as sns\n",
    "from sklearn.model_selection import train_test_split\n",
    "from sklearn.metrics import mean_squared_error\n",
    "from sklearn.linear_model import LinearRegression\n",
    "from sklearn.linear_model import Lasso\n",
    "from sklearn.tree import DecisionTreeRegressor\n",
    "from sklearn.ensemble import RandomForestRegressor\n",
    "from sklearn.model_selection import GridSearchCV\n",
    "from sklearn.metrics import make_scorer\n",
    "from sklearn.impute import KNNImputer\n",
    "from sklearn.preprocessing import MinMaxScaler\n",
    "from sklearn.preprocessing import OrdinalEncoder\n",
    "import lightgbm as lgb\n",
    "from catboost import CatBoostRegressor\n",
    "import warnings\n",
    "warnings.filterwarnings('ignore')"
   ]
  },
  {
   "cell_type": "code",
   "execution_count": 383,
   "metadata": {
    "scrolled": true
   },
   "outputs": [
    {
     "data": {
      "text/html": [
       "<style  type=\"text/css\" >\n",
       "</style><table id=\"T_67b61_\" ><thead>    <tr>        <th class=\"blank level0\" ></th>        <th class=\"col_heading level0 col0\" >missing</th>        <th class=\"col_heading level0 col1\" >total</th>        <th class=\"col_heading level0 col2\" >percent</th>    </tr></thead><tbody>\n",
       "                <tr>\n",
       "                        <th id=\"T_67b61_level0_row0\" class=\"row_heading level0 row0\" >datetime</th>\n",
       "                        <td id=\"T_67b61_row0_col0\" class=\"data row0 col0\" >0</td>\n",
       "                        <td id=\"T_67b61_row0_col1\" class=\"data row0 col1\" >26,496</td>\n",
       "                        <td id=\"T_67b61_row0_col2\" class=\"data row0 col2\" >0.00%</td>\n",
       "            </tr>\n",
       "            <tr>\n",
       "                        <th id=\"T_67b61_level0_row1\" class=\"row_heading level0 row1\" >num_orders</th>\n",
       "                        <td id=\"T_67b61_row1_col0\" class=\"data row1 col0\" >0</td>\n",
       "                        <td id=\"T_67b61_row1_col1\" class=\"data row1 col1\" >26,496</td>\n",
       "                        <td id=\"T_67b61_row1_col2\" class=\"data row1 col2\" >0.00%</td>\n",
       "            </tr>\n",
       "    </tbody></table>"
      ],
      "text/plain": [
       "<pandas.io.formats.style.Styler at 0x7fd5d93d5070>"
      ]
     },
     "execution_count": 383,
     "metadata": {},
     "output_type": "execute_result"
    }
   ],
   "source": [
    "#first upload to check for missing data.\n",
    "data=pd.read_csv('/datasets/taxi.csv', parse_dates=['datetime'])\n",
    "data.stb.missing(style=True) "
   ]
  },
  {
   "cell_type": "markdown",
   "metadata": {},
   "source": [
    "No missing values."
   ]
  },
  {
   "cell_type": "code",
   "execution_count": 384,
   "metadata": {},
   "outputs": [],
   "source": [
    "#Now we upload the data agin however this time the date column will be converted to index.\n",
    "\n",
    "data=pd.read_csv('/datasets/taxi.csv', parse_dates=[0],index_col=0)"
   ]
  },
  {
   "cell_type": "code",
   "execution_count": 385,
   "metadata": {},
   "outputs": [
    {
     "data": {
      "text/html": [
       "<div>\n",
       "<style scoped>\n",
       "    .dataframe tbody tr th:only-of-type {\n",
       "        vertical-align: middle;\n",
       "    }\n",
       "\n",
       "    .dataframe tbody tr th {\n",
       "        vertical-align: top;\n",
       "    }\n",
       "\n",
       "    .dataframe thead th {\n",
       "        text-align: right;\n",
       "    }\n",
       "</style>\n",
       "<table border=\"1\" class=\"dataframe\">\n",
       "  <thead>\n",
       "    <tr style=\"text-align: right;\">\n",
       "      <th></th>\n",
       "      <th>num_orders</th>\n",
       "    </tr>\n",
       "    <tr>\n",
       "      <th>datetime</th>\n",
       "      <th></th>\n",
       "    </tr>\n",
       "  </thead>\n",
       "  <tbody>\n",
       "    <tr>\n",
       "      <th>2018-03-01 00:00:00</th>\n",
       "      <td>9</td>\n",
       "    </tr>\n",
       "    <tr>\n",
       "      <th>2018-03-01 00:10:00</th>\n",
       "      <td>14</td>\n",
       "    </tr>\n",
       "    <tr>\n",
       "      <th>2018-03-01 00:20:00</th>\n",
       "      <td>28</td>\n",
       "    </tr>\n",
       "    <tr>\n",
       "      <th>2018-03-01 00:30:00</th>\n",
       "      <td>20</td>\n",
       "    </tr>\n",
       "    <tr>\n",
       "      <th>2018-03-01 00:40:00</th>\n",
       "      <td>32</td>\n",
       "    </tr>\n",
       "  </tbody>\n",
       "</table>\n",
       "</div>"
      ],
      "text/plain": [
       "                     num_orders\n",
       "datetime                       \n",
       "2018-03-01 00:00:00           9\n",
       "2018-03-01 00:10:00          14\n",
       "2018-03-01 00:20:00          28\n",
       "2018-03-01 00:30:00          20\n",
       "2018-03-01 00:40:00          32"
      ]
     },
     "execution_count": 385,
     "metadata": {},
     "output_type": "execute_result"
    }
   ],
   "source": [
    "data.head()"
   ]
  },
  {
   "cell_type": "code",
   "execution_count": 386,
   "metadata": {},
   "outputs": [],
   "source": [
    "data=data.sort_index()"
   ]
  },
  {
   "cell_type": "code",
   "execution_count": 387,
   "metadata": {},
   "outputs": [
    {
     "data": {
      "text/plain": [
       "True"
      ]
     },
     "execution_count": 387,
     "metadata": {},
     "output_type": "execute_result"
    }
   ],
   "source": [
    "#Let's check if the data is in in chronological order.\n",
    "\n",
    "data.index.is_monotonic"
   ]
  },
  {
   "cell_type": "markdown",
   "metadata": {},
   "source": [
    "The data in chronological order."
   ]
  },
  {
   "cell_type": "code",
   "execution_count": 388,
   "metadata": {},
   "outputs": [
    {
     "data": {
      "text/html": [
       "<div>\n",
       "<style scoped>\n",
       "    .dataframe tbody tr th:only-of-type {\n",
       "        vertical-align: middle;\n",
       "    }\n",
       "\n",
       "    .dataframe tbody tr th {\n",
       "        vertical-align: top;\n",
       "    }\n",
       "\n",
       "    .dataframe thead th {\n",
       "        text-align: right;\n",
       "    }\n",
       "</style>\n",
       "<table border=\"1\" class=\"dataframe\">\n",
       "  <thead>\n",
       "    <tr style=\"text-align: right;\">\n",
       "      <th></th>\n",
       "      <th>num_orders</th>\n",
       "    </tr>\n",
       "    <tr>\n",
       "      <th>datetime</th>\n",
       "      <th></th>\n",
       "    </tr>\n",
       "  </thead>\n",
       "  <tbody>\n",
       "    <tr>\n",
       "      <th>2018-03-01 00:00:00</th>\n",
       "      <td>124</td>\n",
       "    </tr>\n",
       "    <tr>\n",
       "      <th>2018-03-01 01:00:00</th>\n",
       "      <td>85</td>\n",
       "    </tr>\n",
       "    <tr>\n",
       "      <th>2018-03-01 02:00:00</th>\n",
       "      <td>71</td>\n",
       "    </tr>\n",
       "    <tr>\n",
       "      <th>2018-03-01 03:00:00</th>\n",
       "      <td>66</td>\n",
       "    </tr>\n",
       "    <tr>\n",
       "      <th>2018-03-01 04:00:00</th>\n",
       "      <td>43</td>\n",
       "    </tr>\n",
       "  </tbody>\n",
       "</table>\n",
       "</div>"
      ],
      "text/plain": [
       "                     num_orders\n",
       "datetime                       \n",
       "2018-03-01 00:00:00         124\n",
       "2018-03-01 01:00:00          85\n",
       "2018-03-01 02:00:00          71\n",
       "2018-03-01 03:00:00          66\n",
       "2018-03-01 04:00:00          43"
      ]
     },
     "execution_count": 388,
     "metadata": {},
     "output_type": "execute_result"
    }
   ],
   "source": [
    "#Let's resample the data by 1W.\n",
    "\n",
    "data=data.resample('1H').sum()\n",
    "data.head()"
   ]
  },
  {
   "cell_type": "code",
   "execution_count": 389,
   "metadata": {},
   "outputs": [
    {
     "data": {
      "text/plain": [
       "array([124,  85,  71,  66,  43,   6,  12,  15,  34,  69,  64,  96,  30,\n",
       "        32,  48,  44,  73,  45,  61, 113,  58,  90, 120,  75,  20,  11,\n",
       "         7,  46,  54,  91,  36,  59,  82,  83,  89,  49,  93, 101, 119,\n",
       "        72, 163, 108,  25,   9,  17,  56,  52,  57,  28,  41,  76,  68,\n",
       "        63,  60,  26,  42,  27,  22,  39,  19,  51,  80,  77,  86, 176,\n",
       "        16,   3,  14,  31,  50,  62,  37,  40,  47,  10,  81, 100, 121,\n",
       "        24,  38,  55,  99, 127,  94, 143,  78,  65,  97, 114,  88,  79,\n",
       "        84,  29,   1,   4,  70, 117,   5,  18,  53, 102,  33, 107, 118,\n",
       "       153, 105,  67,  35, 109,  21,   8, 123, 110, 134, 133, 137, 126,\n",
       "        13,  74,  95, 139,  87, 106,  92, 148, 182, 104, 131,  98,   2,\n",
       "       112, 103, 128, 166, 111,  23,   0, 129, 164, 165, 138, 142, 159,\n",
       "       115, 130, 135, 150, 167, 147, 253, 140, 172, 116, 125, 162, 201,\n",
       "       136, 146, 154, 145, 155, 158, 156, 193, 197, 234, 157, 122, 144,\n",
       "       149, 171, 152, 174, 186, 132, 194, 183, 188, 229, 173, 185, 161,\n",
       "       151, 190, 192, 184, 160, 203, 180, 141, 168, 224, 187, 251, 198,\n",
       "       245, 222, 213, 195, 215, 178, 177, 216, 223, 179, 170, 169, 248,\n",
       "       204, 230, 196, 211, 212, 249, 226, 175, 273, 437, 231, 219, 214,\n",
       "       202, 191, 281, 254, 210, 200, 272, 462, 239, 240, 205, 247, 242,\n",
       "       246, 267, 238, 263, 408, 208, 295, 189, 220, 265, 217, 232, 227,\n",
       "       342, 276, 268, 207])"
      ]
     },
     "execution_count": 389,
     "metadata": {},
     "output_type": "execute_result"
    }
   ],
   "source": [
    "data['num_orders'].unique()"
   ]
  },
  {
   "cell_type": "markdown",
   "metadata": {},
   "source": [
    "The data is resampled."
   ]
  },
  {
   "cell_type": "markdown",
   "metadata": {},
   "source": [
    "Let's see the distribution of number of orders."
   ]
  },
  {
   "cell_type": "code",
   "execution_count": 390,
   "metadata": {
    "scrolled": true
   },
   "outputs": [
    {
     "data": {
      "image/png": "[encoded data removed]",
      "text/plain": [
       "<Figure size 720x360 with 1 Axes>"
      ]
     },
     "metadata": {
      "needs_background": "light"
     },
     "output_type": "display_data"
    }
   ],
   "source": [
    "fig = plt.figure(figsize =(10, 5))\n",
    "fig.suptitle('Number of Orders Distribution', fontsize=15, y=1)\n",
    "sns.kdeplot(data['num_orders'], fill = True, color = 'blue')\n",
    "plt.axvline(x = data['num_orders'].median(),\n",
    " color='blue',\n",
    " ls='--', \n",
    " lw=2, \n",
    " label = 'Median: {}'.format(data['num_orders'].median()))\n",
    "plt.axvline(x = data['num_orders'].mean(),\n",
    " color='red',\n",
    " ls='--', \n",
    " lw=2, \n",
    " label = 'Mean: {}'.format(data['num_orders'].mean()))\n",
    "plt.legend()\n",
    "plt.show()\n"
   ]
  },
  {
   "cell_type": "markdown",
   "metadata": {},
   "source": [
    "Let's see the time series plot with rolling mean."
   ]
  },
  {
   "cell_type": "code",
   "execution_count": 391,
   "metadata": {},
   "outputs": [
    {
     "data": {
      "text/plain": [
       "<AxesSubplot:title={'center':'Time Series Plot'}, xlabel='datetime'>"
      ]
     },
     "execution_count": 391,
     "metadata": {},
     "output_type": "execute_result"
    },
    {
     "data": {
      "image/png": "[encoded data removed]",
      "text/plain": [
       "<Figure size 720x360 with 1 Axes>"
      ]
     },
     "metadata": {
      "needs_background": "light"
     },
     "output_type": "display_data"
    }
   ],
   "source": [
    "data['rolling_mean'] =data.rolling(10).mean() # < write code here >\n",
    "data.plot(figsize=(10,5), title= 'Time Series Plot')"
   ]
  },
  {
   "cell_type": "markdown",
   "metadata": {},
   "source": [
    "We see that demand for the taxi increases in summer time because in summer more people go to vacaition."
   ]
  },
  {
   "cell_type": "code",
   "execution_count": 392,
   "metadata": {},
   "outputs": [],
   "source": [
    "from statsmodels.tsa.seasonal import seasonal_decompose"
   ]
  },
  {
   "cell_type": "code",
   "execution_count": 393,
   "metadata": {},
   "outputs": [
    {
     "data": {
      "image/png": "[encoded data removed]",
      "text/plain": [
       "<Figure size 720x720 with 3 Axes>"
      ]
     },
     "metadata": {
      "needs_background": "light"
     },
     "output_type": "display_data"
    }
   ],
   "source": [
    "data_new=data['num_orders'].resample('1D').sum()\n",
    "decomposed = seasonal_decompose( data_new)# < write code here >\n",
    "\n",
    "plt.figure(figsize=(10, 10))\n",
    "plt.subplot(311)\n",
    "# To display the graph correctly, specify its\n",
    "# axes ax equal to plt.gca() (gca = get current axis)\n",
    "decomposed.trend.plot(ax=plt.gca())\n",
    "plt.title('Trend')\n",
    "plt.subplot(312)\n",
    "decomposed.seasonal.plot(ax=plt.gca())\n",
    "# < write code here >\n",
    "plt.title('Seasonality')\n",
    "plt.subplot(313)\n",
    "decomposed.resid.plot(ax=plt.gca())\n",
    "# < write code here >\n",
    "plt.title('Residuals')\n",
    "plt.tight_layout()"
   ]
  },
  {
   "cell_type": "markdown",
   "metadata": {},
   "source": [
    "The trend shows that there is increase of taxi demand from April to August which is logical because as I mentioned before in summer time there are more people go to vacation."
   ]
  },
  {
   "cell_type": "code",
   "execution_count": 394,
   "metadata": {
    "scrolled": true
   },
   "outputs": [
    {
     "data": {
      "text/plain": [
       "<AxesSubplot:xlabel='datetime'>"
      ]
     },
     "execution_count": 394,
     "metadata": {},
     "output_type": "execute_result"
    },
    {
     "data": {
      "image/png": "[encoded data removed]",
      "text/plain": [
       "<Figure size 1080x576 with 1 Axes>"
      ]
     },
     "metadata": {
      "needs_background": "light"
     },
     "output_type": "display_data"
    }
   ],
   "source": [
    "data['mean'] = data['num_orders'].rolling(15).mean()\n",
    "data['mean'].plot(figsize=(15,8)) "
   ]
  },
  {
   "cell_type": "code",
   "execution_count": 395,
   "metadata": {
    "scrolled": true
   },
   "outputs": [
    {
     "data": {
      "text/plain": [
       "<AxesSubplot:xlabel='datetime'>"
      ]
     },
     "execution_count": 395,
     "metadata": {},
     "output_type": "execute_result"
    },
    {
     "data": {
      "image/png": "[encoded data removed]",
      "text/plain": [
       "<Figure size 1080x576 with 1 Axes>"
      ]
     },
     "metadata": {
      "needs_background": "light"
     },
     "output_type": "display_data"
    }
   ],
   "source": [
    "data['std'] = data['num_orders'].rolling(15).std()\n",
    "data['std'].plot(figsize=(15,8)) "
   ]
  },
  {
   "cell_type": "markdown",
   "metadata": {},
   "source": [
    "From the plots of mean and std the conclusion is that the graphs are nonstationary."
   ]
  },
  {
   "cell_type": "markdown",
   "metadata": {},
   "source": [
    "## Training"
   ]
  },
  {
   "cell_type": "markdown",
   "metadata": {},
   "source": [
    "Let's create a function for features."
   ]
  },
  {
   "cell_type": "code",
   "execution_count": 396,
   "metadata": {},
   "outputs": [],
   "source": [
    "def make_features(data, max_lag, rolling_mean_size):\n",
    "    data['year'] = data.index.year\n",
    "    data['month'] = data.index.month\n",
    "    data['day'] = data.index.day\n",
    "    data['dayofweek'] = data.index.dayofweek\n",
    "\n",
    "    for lag in range(1, max_lag + 1):\n",
    "        data['lag_{}'.format(lag)] = data['num_orders'].shift(lag)\n",
    "\n",
    "    data['rolling_mean'] = (\n",
    "        data['num_orders'].shift().rolling(rolling_mean_size).mean()\n",
    "    )\n",
    "    return data"
   ]
  },
  {
   "cell_type": "code",
   "execution_count": 397,
   "metadata": {},
   "outputs": [
    {
     "data": {
      "text/html": [
       "<div>\n",
       "<style scoped>\n",
       "    .dataframe tbody tr th:only-of-type {\n",
       "        vertical-align: middle;\n",
       "    }\n",
       "\n",
       "    .dataframe tbody tr th {\n",
       "        vertical-align: top;\n",
       "    }\n",
       "\n",
       "    .dataframe thead th {\n",
       "        text-align: right;\n",
       "    }\n",
       "</style>\n",
       "<table border=\"1\" class=\"dataframe\">\n",
       "  <thead>\n",
       "    <tr style=\"text-align: right;\">\n",
       "      <th></th>\n",
       "      <th>num_orders</th>\n",
       "      <th>rolling_mean</th>\n",
       "      <th>mean</th>\n",
       "      <th>std</th>\n",
       "      <th>year</th>\n",
       "      <th>month</th>\n",
       "      <th>day</th>\n",
       "      <th>dayofweek</th>\n",
       "      <th>lag_1</th>\n",
       "      <th>lag_2</th>\n",
       "      <th>...</th>\n",
       "      <th>lag_11</th>\n",
       "      <th>lag_12</th>\n",
       "      <th>lag_13</th>\n",
       "      <th>lag_14</th>\n",
       "      <th>lag_15</th>\n",
       "      <th>lag_16</th>\n",
       "      <th>lag_17</th>\n",
       "      <th>lag_18</th>\n",
       "      <th>lag_19</th>\n",
       "      <th>lag_20</th>\n",
       "    </tr>\n",
       "    <tr>\n",
       "      <th>datetime</th>\n",
       "      <th></th>\n",
       "      <th></th>\n",
       "      <th></th>\n",
       "      <th></th>\n",
       "      <th></th>\n",
       "      <th></th>\n",
       "      <th></th>\n",
       "      <th></th>\n",
       "      <th></th>\n",
       "      <th></th>\n",
       "      <th></th>\n",
       "      <th></th>\n",
       "      <th></th>\n",
       "      <th></th>\n",
       "      <th></th>\n",
       "      <th></th>\n",
       "      <th></th>\n",
       "      <th></th>\n",
       "      <th></th>\n",
       "      <th></th>\n",
       "      <th></th>\n",
       "    </tr>\n",
       "  </thead>\n",
       "  <tbody>\n",
       "    <tr>\n",
       "      <th>2018-03-01 00:00:00</th>\n",
       "      <td>124</td>\n",
       "      <td>NaN</td>\n",
       "      <td>NaN</td>\n",
       "      <td>NaN</td>\n",
       "      <td>2018</td>\n",
       "      <td>3</td>\n",
       "      <td>1</td>\n",
       "      <td>3</td>\n",
       "      <td>NaN</td>\n",
       "      <td>NaN</td>\n",
       "      <td>...</td>\n",
       "      <td>NaN</td>\n",
       "      <td>NaN</td>\n",
       "      <td>NaN</td>\n",
       "      <td>NaN</td>\n",
       "      <td>NaN</td>\n",
       "      <td>NaN</td>\n",
       "      <td>NaN</td>\n",
       "      <td>NaN</td>\n",
       "      <td>NaN</td>\n",
       "      <td>NaN</td>\n",
       "    </tr>\n",
       "    <tr>\n",
       "      <th>2018-03-01 01:00:00</th>\n",
       "      <td>85</td>\n",
       "      <td>NaN</td>\n",
       "      <td>NaN</td>\n",
       "      <td>NaN</td>\n",
       "      <td>2018</td>\n",
       "      <td>3</td>\n",
       "      <td>1</td>\n",
       "      <td>3</td>\n",
       "      <td>124.0</td>\n",
       "      <td>NaN</td>\n",
       "      <td>...</td>\n",
       "      <td>NaN</td>\n",
       "      <td>NaN</td>\n",
       "      <td>NaN</td>\n",
       "      <td>NaN</td>\n",
       "      <td>NaN</td>\n",
       "      <td>NaN</td>\n",
       "      <td>NaN</td>\n",
       "      <td>NaN</td>\n",
       "      <td>NaN</td>\n",
       "      <td>NaN</td>\n",
       "    </tr>\n",
       "    <tr>\n",
       "      <th>2018-03-01 02:00:00</th>\n",
       "      <td>71</td>\n",
       "      <td>NaN</td>\n",
       "      <td>NaN</td>\n",
       "      <td>NaN</td>\n",
       "      <td>2018</td>\n",
       "      <td>3</td>\n",
       "      <td>1</td>\n",
       "      <td>3</td>\n",
       "      <td>85.0</td>\n",
       "      <td>124.0</td>\n",
       "      <td>...</td>\n",
       "      <td>NaN</td>\n",
       "      <td>NaN</td>\n",
       "      <td>NaN</td>\n",
       "      <td>NaN</td>\n",
       "      <td>NaN</td>\n",
       "      <td>NaN</td>\n",
       "      <td>NaN</td>\n",
       "      <td>NaN</td>\n",
       "      <td>NaN</td>\n",
       "      <td>NaN</td>\n",
       "    </tr>\n",
       "    <tr>\n",
       "      <th>2018-03-01 03:00:00</th>\n",
       "      <td>66</td>\n",
       "      <td>NaN</td>\n",
       "      <td>NaN</td>\n",
       "      <td>NaN</td>\n",
       "      <td>2018</td>\n",
       "      <td>3</td>\n",
       "      <td>1</td>\n",
       "      <td>3</td>\n",
       "      <td>71.0</td>\n",
       "      <td>85.0</td>\n",
       "      <td>...</td>\n",
       "      <td>NaN</td>\n",
       "      <td>NaN</td>\n",
       "      <td>NaN</td>\n",
       "      <td>NaN</td>\n",
       "      <td>NaN</td>\n",
       "      <td>NaN</td>\n",
       "      <td>NaN</td>\n",
       "      <td>NaN</td>\n",
       "      <td>NaN</td>\n",
       "      <td>NaN</td>\n",
       "    </tr>\n",
       "    <tr>\n",
       "      <th>2018-03-01 04:00:00</th>\n",
       "      <td>43</td>\n",
       "      <td>NaN</td>\n",
       "      <td>NaN</td>\n",
       "      <td>NaN</td>\n",
       "      <td>2018</td>\n",
       "      <td>3</td>\n",
       "      <td>1</td>\n",
       "      <td>3</td>\n",
       "      <td>66.0</td>\n",
       "      <td>71.0</td>\n",
       "      <td>...</td>\n",
       "      <td>NaN</td>\n",
       "      <td>NaN</td>\n",
       "      <td>NaN</td>\n",
       "      <td>NaN</td>\n",
       "      <td>NaN</td>\n",
       "      <td>NaN</td>\n",
       "      <td>NaN</td>\n",
       "      <td>NaN</td>\n",
       "      <td>NaN</td>\n",
       "      <td>NaN</td>\n",
       "    </tr>\n",
       "    <tr>\n",
       "      <th>...</th>\n",
       "      <td>...</td>\n",
       "      <td>...</td>\n",
       "      <td>...</td>\n",
       "      <td>...</td>\n",
       "      <td>...</td>\n",
       "      <td>...</td>\n",
       "      <td>...</td>\n",
       "      <td>...</td>\n",
       "      <td>...</td>\n",
       "      <td>...</td>\n",
       "      <td>...</td>\n",
       "      <td>...</td>\n",
       "      <td>...</td>\n",
       "      <td>...</td>\n",
       "      <td>...</td>\n",
       "      <td>...</td>\n",
       "      <td>...</td>\n",
       "      <td>...</td>\n",
       "      <td>...</td>\n",
       "      <td>...</td>\n",
       "      <td>...</td>\n",
       "    </tr>\n",
       "    <tr>\n",
       "      <th>2018-08-31 19:00:00</th>\n",
       "      <td>136</td>\n",
       "      <td>169.35</td>\n",
       "      <td>147.333333</td>\n",
       "      <td>57.917018</td>\n",
       "      <td>2018</td>\n",
       "      <td>8</td>\n",
       "      <td>31</td>\n",
       "      <td>4</td>\n",
       "      <td>207.0</td>\n",
       "      <td>217.0</td>\n",
       "      <td>...</td>\n",
       "      <td>182.0</td>\n",
       "      <td>46.0</td>\n",
       "      <td>35.0</td>\n",
       "      <td>78.0</td>\n",
       "      <td>268.0</td>\n",
       "      <td>99.0</td>\n",
       "      <td>230.0</td>\n",
       "      <td>194.0</td>\n",
       "      <td>276.0</td>\n",
       "      <td>246.0</td>\n",
       "    </tr>\n",
       "    <tr>\n",
       "      <th>2018-08-31 20:00:00</th>\n",
       "      <td>154</td>\n",
       "      <td>163.85</td>\n",
       "      <td>152.400000</td>\n",
       "      <td>54.650578</td>\n",
       "      <td>2018</td>\n",
       "      <td>8</td>\n",
       "      <td>31</td>\n",
       "      <td>4</td>\n",
       "      <td>136.0</td>\n",
       "      <td>207.0</td>\n",
       "      <td>...</td>\n",
       "      <td>203.0</td>\n",
       "      <td>182.0</td>\n",
       "      <td>46.0</td>\n",
       "      <td>35.0</td>\n",
       "      <td>78.0</td>\n",
       "      <td>268.0</td>\n",
       "      <td>99.0</td>\n",
       "      <td>230.0</td>\n",
       "      <td>194.0</td>\n",
       "      <td>276.0</td>\n",
       "    </tr>\n",
       "    <tr>\n",
       "      <th>2018-08-31 21:00:00</th>\n",
       "      <td>159</td>\n",
       "      <td>157.75</td>\n",
       "      <td>160.666667</td>\n",
       "      <td>43.955605</td>\n",
       "      <td>2018</td>\n",
       "      <td>8</td>\n",
       "      <td>31</td>\n",
       "      <td>4</td>\n",
       "      <td>154.0</td>\n",
       "      <td>136.0</td>\n",
       "      <td>...</td>\n",
       "      <td>191.0</td>\n",
       "      <td>203.0</td>\n",
       "      <td>182.0</td>\n",
       "      <td>46.0</td>\n",
       "      <td>35.0</td>\n",
       "      <td>78.0</td>\n",
       "      <td>268.0</td>\n",
       "      <td>99.0</td>\n",
       "      <td>230.0</td>\n",
       "      <td>194.0</td>\n",
       "    </tr>\n",
       "    <tr>\n",
       "      <th>2018-08-31 22:00:00</th>\n",
       "      <td>223</td>\n",
       "      <td>156.00</td>\n",
       "      <td>172.466667</td>\n",
       "      <td>33.485320</td>\n",
       "      <td>2018</td>\n",
       "      <td>8</td>\n",
       "      <td>31</td>\n",
       "      <td>4</td>\n",
       "      <td>159.0</td>\n",
       "      <td>154.0</td>\n",
       "      <td>...</td>\n",
       "      <td>167.0</td>\n",
       "      <td>191.0</td>\n",
       "      <td>203.0</td>\n",
       "      <td>182.0</td>\n",
       "      <td>46.0</td>\n",
       "      <td>35.0</td>\n",
       "      <td>78.0</td>\n",
       "      <td>268.0</td>\n",
       "      <td>99.0</td>\n",
       "      <td>230.0</td>\n",
       "    </tr>\n",
       "    <tr>\n",
       "      <th>2018-08-31 23:00:00</th>\n",
       "      <td>205</td>\n",
       "      <td>155.65</td>\n",
       "      <td>174.000000</td>\n",
       "      <td>34.465303</td>\n",
       "      <td>2018</td>\n",
       "      <td>8</td>\n",
       "      <td>31</td>\n",
       "      <td>4</td>\n",
       "      <td>223.0</td>\n",
       "      <td>159.0</td>\n",
       "      <td>...</td>\n",
       "      <td>136.0</td>\n",
       "      <td>167.0</td>\n",
       "      <td>191.0</td>\n",
       "      <td>203.0</td>\n",
       "      <td>182.0</td>\n",
       "      <td>46.0</td>\n",
       "      <td>35.0</td>\n",
       "      <td>78.0</td>\n",
       "      <td>268.0</td>\n",
       "      <td>99.0</td>\n",
       "    </tr>\n",
       "  </tbody>\n",
       "</table>\n",
       "<p>4416 rows × 28 columns</p>\n",
       "</div>"
      ],
      "text/plain": [
       "                     num_orders  rolling_mean        mean        std  year  \\\n",
       "datetime                                                                     \n",
       "2018-03-01 00:00:00         124           NaN         NaN        NaN  2018   \n",
       "2018-03-01 01:00:00          85           NaN         NaN        NaN  2018   \n",
       "2018-03-01 02:00:00          71           NaN         NaN        NaN  2018   \n",
       "2018-03-01 03:00:00          66           NaN         NaN        NaN  2018   \n",
       "2018-03-01 04:00:00          43           NaN         NaN        NaN  2018   \n",
       "...                         ...           ...         ...        ...   ...   \n",
       "2018-08-31 19:00:00         136        169.35  147.333333  57.917018  2018   \n",
       "2018-08-31 20:00:00         154        163.85  152.400000  54.650578  2018   \n",
       "2018-08-31 21:00:00         159        157.75  160.666667  43.955605  2018   \n",
       "2018-08-31 22:00:00         223        156.00  172.466667  33.485320  2018   \n",
       "2018-08-31 23:00:00         205        155.65  174.000000  34.465303  2018   \n",
       "\n",
       "                     month  day  dayofweek  lag_1  lag_2  ...  lag_11  lag_12  \\\n",
       "datetime                                                  ...                   \n",
       "2018-03-01 00:00:00      3    1          3    NaN    NaN  ...     NaN     NaN   \n",
       "2018-03-01 01:00:00      3    1          3  124.0    NaN  ...     NaN     NaN   \n",
       "2018-03-01 02:00:00      3    1          3   85.0  124.0  ...     NaN     NaN   \n",
       "2018-03-01 03:00:00      3    1          3   71.0   85.0  ...     NaN     NaN   \n",
       "2018-03-01 04:00:00      3    1          3   66.0   71.0  ...     NaN     NaN   \n",
       "...                    ...  ...        ...    ...    ...  ...     ...     ...   \n",
       "2018-08-31 19:00:00      8   31          4  207.0  217.0  ...   182.0    46.0   \n",
       "2018-08-31 20:00:00      8   31          4  136.0  207.0  ...   203.0   182.0   \n",
       "2018-08-31 21:00:00      8   31          4  154.0  136.0  ...   191.0   203.0   \n",
       "2018-08-31 22:00:00      8   31          4  159.0  154.0  ...   167.0   191.0   \n",
       "2018-08-31 23:00:00      8   31          4  223.0  159.0  ...   136.0   167.0   \n",
       "\n",
       "                     lag_13  lag_14  lag_15  lag_16  lag_17  lag_18  lag_19  \\\n",
       "datetime                                                                      \n",
       "2018-03-01 00:00:00     NaN     NaN     NaN     NaN     NaN     NaN     NaN   \n",
       "2018-03-01 01:00:00     NaN     NaN     NaN     NaN     NaN     NaN     NaN   \n",
       "2018-03-01 02:00:00     NaN     NaN     NaN     NaN     NaN     NaN     NaN   \n",
       "2018-03-01 03:00:00     NaN     NaN     NaN     NaN     NaN     NaN     NaN   \n",
       "2018-03-01 04:00:00     NaN     NaN     NaN     NaN     NaN     NaN     NaN   \n",
       "...                     ...     ...     ...     ...     ...     ...     ...   \n",
       "2018-08-31 19:00:00    35.0    78.0   268.0    99.0   230.0   194.0   276.0   \n",
       "2018-08-31 20:00:00    46.0    35.0    78.0   268.0    99.0   230.0   194.0   \n",
       "2018-08-31 21:00:00   182.0    46.0    35.0    78.0   268.0    99.0   230.0   \n",
       "2018-08-31 22:00:00   203.0   182.0    46.0    35.0    78.0   268.0    99.0   \n",
       "2018-08-31 23:00:00   191.0   203.0   182.0    46.0    35.0    78.0   268.0   \n",
       "\n",
       "                     lag_20  \n",
       "datetime                     \n",
       "2018-03-01 00:00:00     NaN  \n",
       "2018-03-01 01:00:00     NaN  \n",
       "2018-03-01 02:00:00     NaN  \n",
       "2018-03-01 03:00:00     NaN  \n",
       "2018-03-01 04:00:00     NaN  \n",
       "...                     ...  \n",
       "2018-08-31 19:00:00   246.0  \n",
       "2018-08-31 20:00:00   276.0  \n",
       "2018-08-31 21:00:00   194.0  \n",
       "2018-08-31 22:00:00   230.0  \n",
       "2018-08-31 23:00:00    99.0  \n",
       "\n",
       "[4416 rows x 28 columns]"
      ]
     },
     "execution_count": 397,
     "metadata": {},
     "output_type": "execute_result"
    }
   ],
   "source": [
    "#Seting the size of max lag and rolling mean.\n",
    "\n",
    "#make_features(data.drop(['std'],axis=1), 20, 20)\n",
    "make_features(data, 20, 20)"
   ]
  },
  {
   "cell_type": "markdown",
   "metadata": {},
   "source": [
    "Let's split the data for train and test."
   ]
  },
  {
   "cell_type": "code",
   "execution_count": 398,
   "metadata": {},
   "outputs": [
    {
     "name": "stdout",
     "output_type": "stream",
     "text": [
      "2018-03-01 20:00:00 2018-08-13 13:00:00\n",
      "2018-08-13 14:00:00 2018-08-31 23:00:00\n"
     ]
    }
   ],
   "source": [
    "train, test = train_test_split(data, shuffle=False, test_size=0.1)\n",
    "train = train.dropna()\n",
    "\n",
    "print(train.index.min(), train.index.max())\n",
    "print(test.index.min(), test.index.max())"
   ]
  },
  {
   "cell_type": "code",
   "execution_count": 399,
   "metadata": {},
   "outputs": [],
   "source": [
    "#Creating features and target for train and test data.\n",
    "\n",
    "#Train.\n",
    "train_features=train.drop('num_orders',axis=1)\n",
    "train_target=train['num_orders']\n",
    "\n",
    "#Test.\n",
    "test_features=test.drop('num_orders',axis=1)\n",
    "test_target=test['num_orders']"
   ]
  },
  {
   "cell_type": "markdown",
   "metadata": {},
   "source": [
    "Let's create objective function to train and evaluate the model. (optuna lib)"
   ]
  },
  {
   "cell_type": "code",
   "execution_count": 400,
   "metadata": {
    "scrolled": true
   },
   "outputs": [
    {
     "name": "stdout",
     "output_type": "stream",
     "text": [
      "Requirement already satisfied: optuna in /opt/conda/lib/python3.9/site-packages (2.10.1)\n",
      "Requirement already satisfied: cliff in /opt/conda/lib/python3.9/site-packages (from optuna) (3.10.1)\n",
      "Requirement already satisfied: alembic in /opt/conda/lib/python3.9/site-packages (from optuna) (1.6.5)\n",
      "Requirement already satisfied: tqdm in /opt/conda/lib/python3.9/site-packages (from optuna) (4.61.2)\n",
      "Requirement already satisfied: cmaes>=0.8.2 in /opt/conda/lib/python3.9/site-packages (from optuna) (0.8.2)\n",
      "Requirement already satisfied: colorlog in /opt/conda/lib/python3.9/site-packages (from optuna) (6.6.0)\n",
      "Requirement already satisfied: scipy!=1.4.0 in /opt/conda/lib/python3.9/site-packages (from optuna) (1.8.0)\n",
      "Requirement already satisfied: sqlalchemy>=1.1.0 in /opt/conda/lib/python3.9/site-packages (from optuna) (1.4.20)\n",
      "Requirement already satisfied: numpy in /opt/conda/lib/python3.9/site-packages (from optuna) (1.21.1)\n",
      "Requirement already satisfied: PyYAML in /opt/conda/lib/python3.9/site-packages (from optuna) (6.0)\n",
      "Requirement already satisfied: packaging>=20.0 in /opt/conda/lib/python3.9/site-packages (from optuna) (21.3)\n",
      "Requirement already satisfied: pyparsing!=3.0.5,>=2.0.2 in /opt/conda/lib/python3.9/site-packages (from packaging>=20.0->optuna) (2.4.7)\n",
      "Requirement already satisfied: greenlet!=0.4.17 in /opt/conda/lib/python3.9/site-packages (from sqlalchemy>=1.1.0->optuna) (1.1.0)\n",
      "Requirement already satisfied: Mako in /opt/conda/lib/python3.9/site-packages (from alembic->optuna) (1.1.4)\n",
      "Requirement already satisfied: python-editor>=0.3 in /opt/conda/lib/python3.9/site-packages (from alembic->optuna) (1.0.4)\n",
      "Requirement already satisfied: python-dateutil in /opt/conda/lib/python3.9/site-packages (from alembic->optuna) (2.8.1)\n",
      "Requirement already satisfied: cmd2>=1.0.0 in /opt/conda/lib/python3.9/site-packages (from cliff->optuna) (2.4.1)\n",
      "Requirement already satisfied: PrettyTable>=0.7.2 in /opt/conda/lib/python3.9/site-packages (from cliff->optuna) (3.3.0)\n",
      "Requirement already satisfied: pbr!=2.1.0,>=2.0.0 in /opt/conda/lib/python3.9/site-packages (from cliff->optuna) (5.9.0)\n",
      "Requirement already satisfied: stevedore>=2.0.1 in /opt/conda/lib/python3.9/site-packages (from cliff->optuna) (3.5.0)\n",
      "Requirement already satisfied: autopage>=0.4.0 in /opt/conda/lib/python3.9/site-packages (from cliff->optuna) (0.5.1)\n",
      "Requirement already satisfied: wcwidth>=0.1.7 in /opt/conda/lib/python3.9/site-packages (from cmd2>=1.0.0->cliff->optuna) (0.2.5)\n",
      "Requirement already satisfied: pyperclip>=1.6 in /opt/conda/lib/python3.9/site-packages (from cmd2>=1.0.0->cliff->optuna) (1.8.2)\n",
      "Requirement already satisfied: attrs>=16.3.0 in /opt/conda/lib/python3.9/site-packages (from cmd2>=1.0.0->cliff->optuna) (21.2.0)\n",
      "Requirement already satisfied: MarkupSafe>=0.9.2 in /opt/conda/lib/python3.9/site-packages (from Mako->alembic->optuna) (2.0.1)\n",
      "Requirement already satisfied: six>=1.5 in /opt/conda/lib/python3.9/site-packages (from python-dateutil->alembic->optuna) (1.16.0)\n"
     ]
    }
   ],
   "source": [
    "! pip install optuna\n",
    "import optuna\n",
    "import warnings\n",
    "warnings.filterwarnings('ignore')"
   ]
  },
  {
   "cell_type": "markdown",
   "metadata": {},
   "source": [
    "Random Forest model training."
   ]
  },
  {
   "cell_type": "markdown",
   "metadata": {},
   "source": [
    "Let's create a list for rmse values."
   ]
  },
  {
   "cell_type": "code",
   "execution_count": 401,
   "metadata": {},
   "outputs": [],
   "source": [
    "rmse = []"
   ]
  },
  {
   "cell_type": "code",
   "execution_count": 402,
   "metadata": {},
   "outputs": [],
   "source": [
    "def objective_rand_forest(trial):\n",
    "    max_depth = trial.suggest_int('max_depth', 2, 20)\n",
    "    min_impurity_decrease = trial.suggest_uniform('min_impurity_decrease',0.01, 0.5)\n",
    "    min_samples_split = trial.suggest_int('min_samples_split', 2, 20)\n",
    "    min_samples_leaf = trial.suggest_int('min_samples_leaf', 2, 20)\n",
    "    \n",
    "    model = RandomForestRegressor(max_depth=max_depth, min_impurity_decrease = min_impurity_decrease, \n",
    "    min_samples_split = min_samples_split, min_samples_leaf = min_samples_leaf,random_state = 12345)\n",
    "\n",
    " \n",
    "    model.fit(train_features, train_target)\n",
    "    pred = model.predict(train_features)\n",
    "    rmse_score = math.sqrt(mean_squared_error(train_target, pred))\n",
    "    \n",
    "    return rmse_score\n",
    "   "
   ]
  },
  {
   "cell_type": "code",
   "execution_count": 403,
   "metadata": {},
   "outputs": [
    {
     "name": "stdout",
     "output_type": "stream",
     "text": [
      "Minimum MSE:  9.982082258267098\n",
      "Best Parameters:  {'max_depth': 20, 'min_impurity_decrease': 0.025330482817131107, 'min_samples_split': 3, 'min_samples_leaf': 2}\n",
      "CPU times: user 5min 52s, sys: 0 ns, total: 5min 52s\n",
      "Wall time: 5min 52s\n"
     ]
    }
   ],
   "source": [
    "%%time\n",
    "\n",
    "optuna.logging.set_verbosity(optuna.logging.WARNING)\n",
    "study = optuna.create_study(direction='minimize')\n",
    "study.optimize(objective_rand_forest, n_trials = 100)\n",
    "forest_best_params = study.best_params\n",
    "print('Minimum MSE: ', study.best_value)\n",
    "print('Best Parameters: ', study.best_params)\n",
    "rmse.append(study.best_value)\n"
   ]
  },
  {
   "cell_type": "markdown",
   "metadata": {},
   "source": [
    "Decision Tree."
   ]
  },
  {
   "cell_type": "code",
   "execution_count": 404,
   "metadata": {},
   "outputs": [],
   "source": [
    "def objective_dec_tree(trial):\n",
    "    max_depth = trial.suggest_int('max_depth', 1,8, train_features.shape[1])\n",
    "    min_samples_split = trial.suggest_int('min_samples_split', 2, 20)\n",
    "    min_samples_leaf = trial.suggest_int('min_samples_leaf', 2, 40)\n",
    "    min_impurity_decrease =trial.suggest_uniform('min_impurity_decrease', 0.01, 0.3)\n",
    "    \n",
    "    model = DecisionTreeRegressor(max_depth=max_depth, min_samples_split = min_samples_split, \n",
    "    min_samples_leaf = min_samples_leaf, min_impurity_decrease = min_impurity_decrease,random_state = 12345)\n",
    "    \n",
    "    model.fit(train_features, train_target)\n",
    "    pred = model.predict(train_features)\n",
    "    rmse_score = math.sqrt(mean_squared_error(train_target, pred))\n",
    "\n",
    "    return rmse_score"
   ]
  },
  {
   "cell_type": "code",
   "execution_count": 405,
   "metadata": {},
   "outputs": [
    {
     "name": "stdout",
     "output_type": "stream",
     "text": [
      "Minimum MSE:  34.353049251228164\n",
      "Best Parameters:  {'max_depth': 1, 'min_samples_split': 6, 'min_samples_leaf': 8, 'min_impurity_decrease': 0.11456591925578169}\n",
      "CPU times: user 1.84 s, sys: 0 ns, total: 1.84 s\n",
      "Wall time: 1.85 s\n"
     ]
    }
   ],
   "source": [
    "%%time\n",
    "\n",
    "optuna.logging.set_verbosity(optuna.logging.WARNING)\n",
    "study = optuna.create_study(direction='minimize')\n",
    "study.optimize(objective_dec_tree, n_trials = 100)\n",
    "tree_best_params = study.best_params\n",
    "print('Minimum MSE: ', study.best_value)\n",
    "print('Best Parameters: ', study.best_params)\n",
    "rmse.append(study.best_value)\n"
   ]
  },
  {
   "cell_type": "markdown",
   "metadata": {},
   "source": [
    "LightGBM Regressor."
   ]
  },
  {
   "cell_type": "code",
   "execution_count": 406,
   "metadata": {},
   "outputs": [],
   "source": [
    "def objective_lgbm_reg(trial):\n",
    "    max_depth = trial.suggest_int('max_depth', 2, 70)\n",
    "    n_estimators = trial.suggest_int('n_estimators', 40, 250)\n",
    "    learning_rate = trial.suggest_uniform('learning_rate',0.01, 1.5)\n",
    "    min_split_gain = trial.suggest_int('min_split_gain', 2, 30)\n",
    "    \n",
    "    model = lgb.LGBMRegressor(max_depth=max_depth, n_estimators =n_estimators, learning_rate = learning_rate, \n",
    "    min_split_gain = min_split_gain,random_state = 12345)\n",
    "    \n",
    "    model.fit(train_features,train_target)\n",
    "    pred = model.predict(train_features)\n",
    "    rmse_score = math.sqrt(mean_squared_error(train_target, pred))\n",
    "    \n",
    "    return rmse_score"
   ]
  },
  {
   "cell_type": "code",
   "execution_count": 407,
   "metadata": {},
   "outputs": [
    {
     "name": "stdout",
     "output_type": "stream",
     "text": [
      "Minimum MSE:  0.7212771315970226\n",
      "Best parameters:  {'max_depth': 34, 'n_estimators': 197, 'learning_rate': 1.4942632839699637, 'min_split_gain': 2}\n",
      "CPU times: user 2min 18s, sys: 31.8 ms, total: 2min 18s\n",
      "Wall time: 2min 19s\n"
     ]
    }
   ],
   "source": [
    "%%time\n",
    "\n",
    "optuna.logging.set_verbosity(optuna.logging.WARNING)\n",
    "study = optuna.create_study(direction='minimize')\n",
    "study.optimize(objective_lgbm_reg, n_trials = 100)\n",
    "lgbm_best_params = study.best_params\n",
    "print('Minimum MSE: ', study.best_value)\n",
    "print('Best parameters: ', study.best_params)\n",
    "rmse.append(study.best_value)\n"
   ]
  },
  {
   "cell_type": "markdown",
   "metadata": {},
   "source": [
    "CatBoost Regressor."
   ]
  },
  {
   "cell_type": "code",
   "execution_count": 408,
   "metadata": {},
   "outputs": [],
   "source": [
    "def objective_catboost(trial):\n",
    "    max_depth = trial.suggest_int('max_depth', 4, 16)\n",
    "    n_estimators = trial.suggest_int('n_estimators', 100, 300)\n",
    "    \n",
    "    model = CatBoostRegressor(max_depth=max_depth, n_estimators =n_estimators, random_state = 12345, verbose = 0)\n",
    "    \n",
    "    model.fit(train_features,train_target)\n",
    "    pred = model.predict(train_features)\n",
    "    rmse_score = math.sqrt(mean_squared_error(train_target, pred))\n",
    "\n",
    "    return rmse_score"
   ]
  },
  {
   "cell_type": "code",
   "execution_count": 409,
   "metadata": {},
   "outputs": [
    {
     "name": "stdout",
     "output_type": "stream",
     "text": [
      "Minimum MSE:  0.1825632066983839\n",
      "Best Parameters:  {'max_depth': 16, 'n_estimators': 212}\n",
      "CPU times: user 13min 30s, sys: 15min 15s, total: 28min 45s\n",
      "Wall time: 28min 49s\n"
     ]
    }
   ],
   "source": [
    "%%time\n",
    "\n",
    "optuna.logging.set_verbosity(optuna.logging.WARNING)\n",
    "study = optuna.create_study(direction='minimize')\n",
    "study.optimize(objective_catboost, n_trials = 5)\n",
    "cat_best_params = study.best_params\n",
    "print('Minimum MSE: ', study.best_value)\n",
    "print('Best Parameters: ', study.best_params)\n",
    "rmse.append(study.best_value)\n"
   ]
  },
  {
   "cell_type": "markdown",
   "metadata": {},
   "source": [
    "Lasso Regressor."
   ]
  },
  {
   "cell_type": "code",
   "execution_count": 410,
   "metadata": {},
   "outputs": [],
   "source": [
    "def objective_lasso_reg(trial):\n",
    "    alpha = trial.suggest_uniform('alpha', 0.0, 2.0)\n",
    "    \n",
    "    model = Lasso(alpha=alpha)\n",
    "    model.fit(train_features,train_target)\n",
    "    pred = model.predict(train_features)\n",
    "    rmse_score = math.sqrt(mean_squared_error(train_target, pred))\n",
    "\n",
    "    return rmse_score"
   ]
  },
  {
   "cell_type": "code",
   "execution_count": 411,
   "metadata": {},
   "outputs": [
    {
     "name": "stdout",
     "output_type": "stream",
     "text": [
      "Minimum MSE:  0.001954087688854291\n",
      "Best Parameters:  {'alpha': 0.006851626829133934}\n",
      "CPU times: user 27.1 s, sys: 41.3 s, total: 1min 8s\n",
      "Wall time: 1min 8s\n"
     ]
    }
   ],
   "source": [
    "%%time\n",
    "\n",
    "optuna.logging.set_verbosity(optuna.logging.WARNING)\n",
    "study = optuna.create_study(direction='minimize')\n",
    "study.optimize(objective_lasso_reg, n_trials = 100)\n",
    "lasso_best_params = study.best_params\n",
    "print('Minimum MSE: ', study.best_value)\n",
    "print('Best Parameters: ', study.best_params)\n",
    "rmse.append(study.best_value)\n"
   ]
  },
  {
   "cell_type": "code",
   "execution_count": 412,
   "metadata": {},
   "outputs": [],
   "source": [
    "models=['Random Forest Regressor','Decision Tree Regressor','LightGBM Regressor','CatBoost Regressor','Lasso Regressor']"
   ]
  },
  {
   "cell_type": "code",
   "execution_count": 413,
   "metadata": {},
   "outputs": [
    {
     "data": {
      "text/html": [
       "<div>\n",
       "<style scoped>\n",
       "    .dataframe tbody tr th:only-of-type {\n",
       "        vertical-align: middle;\n",
       "    }\n",
       "\n",
       "    .dataframe tbody tr th {\n",
       "        vertical-align: top;\n",
       "    }\n",
       "\n",
       "    .dataframe thead th {\n",
       "        text-align: right;\n",
       "    }\n",
       "</style>\n",
       "<table border=\"1\" class=\"dataframe\">\n",
       "  <thead>\n",
       "    <tr style=\"text-align: right;\">\n",
       "      <th></th>\n",
       "      <th>RMSE</th>\n",
       "    </tr>\n",
       "  </thead>\n",
       "  <tbody>\n",
       "    <tr>\n",
       "      <th>Lasso Regressor</th>\n",
       "      <td>0.001954</td>\n",
       "    </tr>\n",
       "    <tr>\n",
       "      <th>CatBoost Regressor</th>\n",
       "      <td>0.182563</td>\n",
       "    </tr>\n",
       "    <tr>\n",
       "      <th>LightGBM Regressor</th>\n",
       "      <td>0.721277</td>\n",
       "    </tr>\n",
       "    <tr>\n",
       "      <th>Random Forest Regressor</th>\n",
       "      <td>9.982082</td>\n",
       "    </tr>\n",
       "    <tr>\n",
       "      <th>Decision Tree Regressor</th>\n",
       "      <td>34.353049</td>\n",
       "    </tr>\n",
       "  </tbody>\n",
       "</table>\n",
       "</div>"
      ],
      "text/plain": [
       "                              RMSE\n",
       "Lasso Regressor           0.001954\n",
       "CatBoost Regressor        0.182563\n",
       "LightGBM Regressor        0.721277\n",
       "Random Forest Regressor   9.982082\n",
       "Decision Tree Regressor  34.353049"
      ]
     },
     "execution_count": 413,
     "metadata": {},
     "output_type": "execute_result"
    }
   ],
   "source": [
    "models_scores=pd.DataFrame(rmse, index = models)\n",
    "models_scores.columns = ['RMSE']\n",
    "models_scores = models_scores.sort_values(by = 'RMSE')\n",
    "models_scores"
   ]
  },
  {
   "cell_type": "markdown",
   "metadata": {},
   "source": [
    "## Testing"
   ]
  },
  {
   "cell_type": "markdown",
   "metadata": {},
   "source": [
    "Let's create list for RMSE score for test results."
   ]
  },
  {
   "cell_type": "code",
   "execution_count": 414,
   "metadata": {},
   "outputs": [],
   "source": [
    "rmse_test = []"
   ]
  },
  {
   "cell_type": "markdown",
   "metadata": {},
   "source": [
    "Random Forest model testing."
   ]
  },
  {
   "cell_type": "code",
   "execution_count": 415,
   "metadata": {},
   "outputs": [
    {
     "name": "stdout",
     "output_type": "stream",
     "text": [
      "Final RMSE score for Random Forest Regressor for the test data: 49.608300605523475\n"
     ]
    }
   ],
   "source": [
    "ran_forest_best_model = RandomForestRegressor(max_depth =forest_best_params['max_depth'], \n",
    "                        min_impurity_decrease =forest_best_params['min_impurity_decrease'], \n",
    "                        min_samples_split =forest_best_params['min_samples_split'],\n",
    "                        min_samples_leaf =forest_best_params['min_samples_leaf'],random_state = 12345)\n",
    "\n",
    "ran_forest_best_model.fit(train_features, train_target)\n",
    "\n",
    "ran_forest_pred = ran_forest_best_model.predict(test_features)\n",
    "\n",
    "ran_forest_rmse = math.sqrt(mean_squared_error(test_target,ran_forest_pred))\n",
    "rmse_test.append(ran_forest_rmse)\n",
    "print('Final RMSE score for Random Forest Regressor for the test data:',ran_forest_rmse)"
   ]
  },
  {
   "cell_type": "markdown",
   "metadata": {},
   "source": [
    "Decision Tree Regressor."
   ]
  },
  {
   "cell_type": "code",
   "execution_count": 416,
   "metadata": {},
   "outputs": [
    {
     "name": "stdout",
     "output_type": "stream",
     "text": [
      "Final RMSE score for Decision Tree Regressor for the test data: 74.03684513219434\n"
     ]
    }
   ],
   "source": [
    "dec_tree_best_model = DecisionTreeRegressor(max_depth =tree_best_params['max_depth'], \n",
    "                      min_impurity_decrease =tree_best_params['min_impurity_decrease'], \n",
    "                      min_samples_split =tree_best_params['min_samples_split'],\n",
    "                      min_samples_leaf =tree_best_params['min_samples_leaf'],random_state = 12345)\n",
    "\n",
    "dec_tree_best_model.fit(train_features,train_target)\n",
    "\n",
    "dec_tree_pred = dec_tree_best_model.predict(test_features)\n",
    "\n",
    "dec_tree_rmse = math.sqrt(mean_squared_error(test_target,dec_tree_pred))\n",
    "rmse_test.append(dec_tree_rmse)\n",
    "print('Final RMSE score for Decision Tree Regressor for the test data:',dec_tree_rmse)\n"
   ]
  },
  {
   "cell_type": "markdown",
   "metadata": {},
   "source": [
    "LightGBM Regressor."
   ]
  },
  {
   "cell_type": "code",
   "execution_count": 417,
   "metadata": {},
   "outputs": [
    {
     "name": "stdout",
     "output_type": "stream",
     "text": [
      "Final RMSE score for LightGBM Regressor for the test data: 71.57538939860343\n"
     ]
    }
   ],
   "source": [
    "lgbm_reg_best_model = lgb.LGBMRegressor(max_depth =lgbm_best_params['max_depth'], \n",
    "                      n_estimators =lgbm_best_params['n_estimators'], \n",
    "                      learning_rate =lgbm_best_params['learning_rate'],\n",
    "                      min_split_gain =lgbm_best_params['min_split_gain'], random_state = 12345)\n",
    "\n",
    "lgbm_reg_best_model.fit(train_features, train_target)\n",
    "\n",
    "lgbm_reg_pred= lgbm_reg_best_model.predict(test_features)\n",
    "\n",
    "lgbm_reg_rmse = math.sqrt(mean_squared_error(test_target,lgbm_reg_pred))\n",
    "rmse_test.append(lgbm_reg_rmse)\n",
    "print('Final RMSE score for LightGBM Regressor for the test data:',lgbm_reg_rmse)\n"
   ]
  },
  {
   "cell_type": "markdown",
   "metadata": {},
   "source": [
    "CatBoost Regressor."
   ]
  },
  {
   "cell_type": "code",
   "execution_count": 418,
   "metadata": {},
   "outputs": [
    {
     "name": "stdout",
     "output_type": "stream",
     "text": [
      "Final RMSE score for CatBoost Regressor for the test data: 61.23576184501399\n"
     ]
    }
   ],
   "source": [
    "catboost_reg_best_model = CatBoostRegressor(max_depth =cat_best_params['max_depth'], \n",
    "                          n_estimators =cat_best_params['n_estimators'], random_state = 12345, verbose = 0)\n",
    "\n",
    "catboost_reg_best_model.fit(train_features,train_target)\n",
    "\n",
    "catboost_reg_pred=catboost_reg_best_model.predict(test_features)\n",
    "\n",
    "catboost_reg_rmse = math.sqrt(mean_squared_error(test_target, catboost_reg_pred))\n",
    "rmse_test.append(catboost_reg_rmse)\n",
    "print('Final RMSE score for CatBoost Regressor for the test data:',catboost_reg_rmse)"
   ]
  },
  {
   "cell_type": "markdown",
   "metadata": {},
   "source": [
    "Lasso Regressor."
   ]
  },
  {
   "cell_type": "code",
   "execution_count": 419,
   "metadata": {},
   "outputs": [
    {
     "name": "stdout",
     "output_type": "stream",
     "text": [
      "Final RMSE score for Lasso Regressor for the test data: 0.003516151199644013\n"
     ]
    }
   ],
   "source": [
    "lasso_reg_best_model = Lasso(alpha = lasso_best_params['alpha'])\n",
    "\n",
    "lasso_reg_best_model.fit(train_features,train_target)\n",
    "\n",
    "lasso_reg_pred=lasso_reg_best_model.predict(test_features)\n",
    "\n",
    "lasso_reg_rmse= math.sqrt(mean_squared_error(test_target, lasso_reg_pred))\n",
    "rmse_test.append(lasso_reg_rmse)\n",
    "print('Final RMSE score for Lasso Regressor for the test data:',lasso_reg_rmse)"
   ]
  },
  {
   "cell_type": "code",
   "execution_count": 420,
   "metadata": {},
   "outputs": [
    {
     "data": {
      "text/html": [
       "<div>\n",
       "<style scoped>\n",
       "    .dataframe tbody tr th:only-of-type {\n",
       "        vertical-align: middle;\n",
       "    }\n",
       "\n",
       "    .dataframe tbody tr th {\n",
       "        vertical-align: top;\n",
       "    }\n",
       "\n",
       "    .dataframe thead th {\n",
       "        text-align: right;\n",
       "    }\n",
       "</style>\n",
       "<table border=\"1\" class=\"dataframe\">\n",
       "  <thead>\n",
       "    <tr style=\"text-align: right;\">\n",
       "      <th></th>\n",
       "      <th>RMSE_Test</th>\n",
       "    </tr>\n",
       "  </thead>\n",
       "  <tbody>\n",
       "    <tr>\n",
       "      <th>Lasso Regressor</th>\n",
       "      <td>0.003516</td>\n",
       "    </tr>\n",
       "    <tr>\n",
       "      <th>Random Forest Regressor</th>\n",
       "      <td>49.608301</td>\n",
       "    </tr>\n",
       "    <tr>\n",
       "      <th>CatBoost Regressor</th>\n",
       "      <td>61.235762</td>\n",
       "    </tr>\n",
       "    <tr>\n",
       "      <th>LightGBM Regressor</th>\n",
       "      <td>71.575389</td>\n",
       "    </tr>\n",
       "    <tr>\n",
       "      <th>Decision Tree Regressor</th>\n",
       "      <td>74.036845</td>\n",
       "    </tr>\n",
       "  </tbody>\n",
       "</table>\n",
       "</div>"
      ],
      "text/plain": [
       "                         RMSE_Test\n",
       "Lasso Regressor           0.003516\n",
       "Random Forest Regressor  49.608301\n",
       "CatBoost Regressor       61.235762\n",
       "LightGBM Regressor       71.575389\n",
       "Decision Tree Regressor  74.036845"
      ]
     },
     "execution_count": 420,
     "metadata": {},
     "output_type": "execute_result"
    }
   ],
   "source": [
    "final_models_scores = pd.DataFrame(rmse_test, index = models)\n",
    "final_models_scores.columns = ['RMSE_Test']\n",
    "final_models_scores = final_models_scores.sort_values(by = 'RMSE_Test')\n",
    "final_models_scores\n"
   ]
  },
  {
   "cell_type": "markdown",
   "metadata": {},
   "source": [
    "The resuts show that Lasso Regressor and Random Forest Regressor have the best RMSE score (below 48, well, at least from last run resluts)."
   ]
  },
  {
   "cell_type": "markdown",
   "metadata": {},
   "source": [
    "# Review checklist"
   ]
  },
  {
   "cell_type": "markdown",
   "metadata": {},
   "source": [
    "- [x]  Jupyter Notebook is open\n",
    "- [ ]  The code is error-free\n",
    "- [ ]  The cells with the code have been arranged in order of execution\n",
    "- [ ]  The data has been downloaded and prepared\n",
    "- [ ]  The data has been analyzed\n",
    "- [ ]  The model has been trained and hyperparameters have been selected\n",
    "- [ ]  The models have been evaluated. Conclusion has been provided\n",
    "- [ ] *RMSE* for the test set is not more than 48"
   ]
  }
 ],
 "metadata": {
  "ExecuteTimeLog": [
   {
    "duration": 4327,
    "start_time": "2022-06-22T12:24:24.960Z"
   },
   {
    "duration": 126,
    "start_time": "2022-06-22T12:25:52.921Z"
   },
   {
    "duration": 10,
    "start_time": "2022-06-22T12:26:32.946Z"
   },
   {
    "duration": 12,
    "start_time": "2022-06-22T12:27:28.129Z"
   },
   {
    "duration": 11,
    "start_time": "2022-06-22T12:28:16.197Z"
   },
   {
    "duration": 133,
    "start_time": "2022-06-22T12:28:30.897Z"
   },
   {
    "duration": 4,
    "start_time": "2022-06-22T12:28:33.908Z"
   },
   {
    "duration": 52,
    "start_time": "2022-06-22T12:30:20.100Z"
   },
   {
    "duration": 129,
    "start_time": "2022-06-22T12:34:48.620Z"
   },
   {
    "duration": 50,
    "start_time": "2022-06-22T12:34:53.838Z"
   },
   {
    "duration": 8,
    "start_time": "2022-06-22T12:34:56.036Z"
   },
   {
    "duration": 11,
    "start_time": "2022-06-22T12:34:59.916Z"
   },
   {
    "duration": 43,
    "start_time": "2022-06-22T12:35:42.557Z"
   },
   {
    "duration": 7,
    "start_time": "2022-06-22T12:35:43.304Z"
   },
   {
    "duration": 11,
    "start_time": "2022-06-22T12:35:46.004Z"
   },
   {
    "duration": 43,
    "start_time": "2022-06-22T12:40:18.300Z"
   },
   {
    "duration": 7,
    "start_time": "2022-06-22T12:40:19.195Z"
   },
   {
    "duration": 10,
    "start_time": "2022-06-22T12:40:28.687Z"
   },
   {
    "duration": 4,
    "start_time": "2022-06-22T12:48:28.387Z"
   },
   {
    "duration": 10,
    "start_time": "2022-06-22T12:48:29.191Z"
   },
   {
    "duration": 53,
    "start_time": "2022-06-22T12:50:05.355Z"
   },
   {
    "duration": 43,
    "start_time": "2022-06-22T12:52:27.551Z"
   },
   {
    "duration": 3,
    "start_time": "2022-06-22T12:52:35.341Z"
   },
   {
    "duration": 4,
    "start_time": "2022-06-22T12:53:40.039Z"
   },
   {
    "duration": 7,
    "start_time": "2022-06-22T12:58:07.514Z"
   },
   {
    "duration": 3,
    "start_time": "2022-06-22T12:58:10.974Z"
   },
   {
    "duration": 3,
    "start_time": "2022-06-22T12:58:11.948Z"
   },
   {
    "duration": 13,
    "start_time": "2022-06-22T13:00:57.995Z"
   },
   {
    "duration": 10,
    "start_time": "2022-06-22T13:01:41.891Z"
   },
   {
    "duration": 346,
    "start_time": "2022-06-22T13:06:38.750Z"
   },
   {
    "duration": 163,
    "start_time": "2022-06-22T13:08:18.107Z"
   },
   {
    "duration": 407,
    "start_time": "2022-06-22T13:18:59.493Z"
   },
   {
    "duration": 207,
    "start_time": "2022-06-22T13:20:32.719Z"
   },
   {
    "duration": 412,
    "start_time": "2022-06-22T13:20:59.884Z"
   },
   {
    "duration": 378,
    "start_time": "2022-06-22T13:23:19.788Z"
   },
   {
    "duration": 354,
    "start_time": "2022-06-22T13:23:26.852Z"
   },
   {
    "duration": 380,
    "start_time": "2022-06-22T13:24:58.004Z"
   },
   {
    "duration": 390,
    "start_time": "2022-06-22T13:25:40.947Z"
   },
   {
    "duration": 376,
    "start_time": "2022-06-22T13:26:21.504Z"
   },
   {
    "duration": 351,
    "start_time": "2022-06-22T13:28:29.445Z"
   },
   {
    "duration": 417,
    "start_time": "2022-06-22T13:28:46.161Z"
   },
   {
    "duration": 398,
    "start_time": "2022-06-22T13:30:31.796Z"
   },
   {
    "duration": 298,
    "start_time": "2022-06-22T13:30:59.015Z"
   },
   {
    "duration": 286,
    "start_time": "2022-06-22T13:31:14.395Z"
   },
   {
    "duration": 297,
    "start_time": "2022-06-22T13:31:39.116Z"
   },
   {
    "duration": 289,
    "start_time": "2022-06-22T13:36:35.555Z"
   },
   {
    "duration": 303,
    "start_time": "2022-06-22T13:43:47.480Z"
   },
   {
    "duration": 32,
    "start_time": "2022-06-22T13:47:22.215Z"
   },
   {
    "duration": 20,
    "start_time": "2022-06-22T13:48:19.763Z"
   },
   {
    "duration": 53,
    "start_time": "2022-06-22T13:49:26.525Z"
   },
   {
    "duration": 48,
    "start_time": "2022-06-22T13:49:30.423Z"
   },
   {
    "duration": 7,
    "start_time": "2022-06-22T13:49:31.400Z"
   },
   {
    "duration": 3,
    "start_time": "2022-06-22T13:49:35.100Z"
   },
   {
    "duration": 4,
    "start_time": "2022-06-22T13:49:35.912Z"
   },
   {
    "duration": 11,
    "start_time": "2022-06-22T13:49:38.312Z"
   },
   {
    "duration": 283,
    "start_time": "2022-06-22T13:49:44.016Z"
   },
   {
    "duration": 360,
    "start_time": "2022-06-22T13:49:47.359Z"
   },
   {
    "duration": 3,
    "start_time": "2022-06-22T13:49:50.826Z"
   },
   {
    "duration": 13,
    "start_time": "2022-06-22T13:49:52.714Z"
   },
   {
    "duration": 16,
    "start_time": "2022-06-22T13:51:05.453Z"
   },
   {
    "duration": 4,
    "start_time": "2022-06-22T14:04:08.847Z"
   },
   {
    "duration": 13,
    "start_time": "2022-06-22T14:16:37.225Z"
   },
   {
    "duration": 17,
    "start_time": "2022-06-22T14:16:53.412Z"
   },
   {
    "duration": 25,
    "start_time": "2022-06-22T14:19:18.106Z"
   },
   {
    "duration": 383,
    "start_time": "2022-06-22T14:20:13.136Z"
   },
   {
    "duration": 20,
    "start_time": "2022-06-22T14:20:27.809Z"
   },
   {
    "duration": 27,
    "start_time": "2022-06-22T14:20:50.487Z"
   },
   {
    "duration": 60,
    "start_time": "2022-06-22T14:27:26.076Z"
   },
   {
    "duration": 46,
    "start_time": "2022-06-22T14:27:28.708Z"
   },
   {
    "duration": 7,
    "start_time": "2022-06-22T14:27:29.321Z"
   },
   {
    "duration": 3,
    "start_time": "2022-06-22T14:27:30.134Z"
   },
   {
    "duration": 4,
    "start_time": "2022-06-22T14:27:30.985Z"
   },
   {
    "duration": 11,
    "start_time": "2022-06-22T14:27:32.449Z"
   },
   {
    "duration": 6,
    "start_time": "2022-06-22T14:27:33.289Z"
   },
   {
    "duration": 323,
    "start_time": "2022-06-22T14:27:51.965Z"
   },
   {
    "duration": 272,
    "start_time": "2022-06-22T14:27:56.485Z"
   },
   {
    "duration": 2,
    "start_time": "2022-06-22T14:28:01.787Z"
   },
   {
    "duration": 22,
    "start_time": "2022-06-22T14:28:02.673Z"
   },
   {
    "duration": 12,
    "start_time": "2022-06-22T14:32:11.444Z"
   },
   {
    "duration": 30,
    "start_time": "2022-06-22T14:35:43.597Z"
   },
   {
    "duration": 668,
    "start_time": "2022-06-22T14:36:38.132Z"
   },
   {
    "duration": 13,
    "start_time": "2022-06-22T14:38:36.744Z"
   },
   {
    "duration": 12,
    "start_time": "2022-06-22T14:38:48.986Z"
   },
   {
    "duration": 634,
    "start_time": "2022-06-22T14:39:06.486Z"
   },
   {
    "duration": 761,
    "start_time": "2022-06-22T14:39:20.637Z"
   },
   {
    "duration": 740,
    "start_time": "2022-06-22T14:39:30.221Z"
   },
   {
    "duration": 1255,
    "start_time": "2022-06-22T15:13:15.089Z"
   },
   {
    "duration": 306,
    "start_time": "2022-06-22T15:13:38.779Z"
   },
   {
    "duration": 470,
    "start_time": "2022-06-22T15:14:17.144Z"
   },
   {
    "duration": 384,
    "start_time": "2022-06-22T15:14:32.649Z"
   },
   {
    "duration": 387,
    "start_time": "2022-06-22T15:15:17.198Z"
   },
   {
    "duration": 258,
    "start_time": "2022-06-22T15:15:42.705Z"
   },
   {
    "duration": 267,
    "start_time": "2022-06-22T15:16:46.143Z"
   },
   {
    "duration": 2257,
    "start_time": "2022-06-22T15:28:56.867Z"
   },
   {
    "duration": 8,
    "start_time": "2022-06-22T15:29:40.116Z"
   },
   {
    "duration": 18,
    "start_time": "2022-06-22T15:36:38.865Z"
   },
   {
    "duration": 8,
    "start_time": "2022-06-22T15:38:02.445Z"
   },
   {
    "duration": 11,
    "start_time": "2022-06-22T15:40:28.883Z"
   },
   {
    "duration": 11,
    "start_time": "2022-06-22T15:41:40.690Z"
   },
   {
    "duration": 10,
    "start_time": "2022-06-22T15:42:40.683Z"
   },
   {
    "duration": 9,
    "start_time": "2022-06-22T15:43:05.515Z"
   },
   {
    "duration": 10,
    "start_time": "2022-06-22T15:43:28.739Z"
   },
   {
    "duration": 12,
    "start_time": "2022-06-22T15:44:59.906Z"
   },
   {
    "duration": 133,
    "start_time": "2022-06-22T15:46:42.664Z"
   },
   {
    "duration": 17,
    "start_time": "2022-06-22T15:48:30.634Z"
   },
   {
    "duration": 10,
    "start_time": "2022-06-27T15:31:47.694Z"
   },
   {
    "duration": 45,
    "start_time": "2022-06-27T15:52:03.799Z"
   },
   {
    "duration": 4522,
    "start_time": "2022-06-27T15:52:12.189Z"
   },
   {
    "duration": 144,
    "start_time": "2022-06-27T15:52:16.713Z"
   },
   {
    "duration": 26,
    "start_time": "2022-06-27T15:52:16.859Z"
   },
   {
    "duration": 9,
    "start_time": "2022-06-27T15:52:16.887Z"
   },
   {
    "duration": 5,
    "start_time": "2022-06-27T15:52:16.899Z"
   },
   {
    "duration": 7,
    "start_time": "2022-06-27T15:52:16.905Z"
   },
   {
    "duration": 16,
    "start_time": "2022-06-27T15:52:16.914Z"
   },
   {
    "duration": 6,
    "start_time": "2022-06-27T15:52:16.931Z"
   },
   {
    "duration": 366,
    "start_time": "2022-06-27T15:52:16.938Z"
   },
   {
    "duration": 404,
    "start_time": "2022-06-27T15:52:17.306Z"
   },
   {
    "duration": 30,
    "start_time": "2022-06-27T15:52:17.712Z"
   },
   {
    "duration": 792,
    "start_time": "2022-06-27T15:52:17.744Z"
   },
   {
    "duration": 301,
    "start_time": "2022-06-27T15:52:18.538Z"
   },
   {
    "duration": 359,
    "start_time": "2022-06-27T15:52:18.842Z"
   },
   {
    "duration": 5,
    "start_time": "2022-06-27T15:52:19.203Z"
   },
   {
    "duration": 36,
    "start_time": "2022-06-27T15:52:19.209Z"
   },
   {
    "duration": 23,
    "start_time": "2022-06-27T15:52:19.246Z"
   },
   {
    "duration": 6,
    "start_time": "2022-06-27T15:55:57.982Z"
   },
   {
    "duration": 10,
    "start_time": "2022-06-27T15:56:34.851Z"
   },
   {
    "duration": 5,
    "start_time": "2022-06-27T15:58:40.110Z"
   },
   {
    "duration": 3,
    "start_time": "2022-06-27T16:07:31.349Z"
   },
   {
    "duration": 3,
    "start_time": "2022-06-27T16:08:15.416Z"
   },
   {
    "duration": 4,
    "start_time": "2022-06-27T16:09:20.408Z"
   },
   {
    "duration": 4,
    "start_time": "2022-06-27T16:09:58.375Z"
   },
   {
    "duration": 139,
    "start_time": "2022-06-27T16:12:29.550Z"
   },
   {
    "duration": 4,
    "start_time": "2022-06-27T16:14:08.270Z"
   },
   {
    "duration": 5,
    "start_time": "2022-06-27T16:14:10.272Z"
   },
   {
    "duration": 5,
    "start_time": "2022-06-27T16:15:17.722Z"
   },
   {
    "duration": 3,
    "start_time": "2022-06-27T16:46:50.363Z"
   },
   {
    "duration": 4,
    "start_time": "2022-06-27T16:46:52.644Z"
   },
   {
    "duration": 57078,
    "start_time": "2022-06-27T16:46:58.857Z"
   },
   {
    "duration": 2636,
    "start_time": "2022-06-27T16:50:12.292Z"
   },
   {
    "duration": 54,
    "start_time": "2022-06-27T16:51:13.043Z"
   },
   {
    "duration": 359,
    "start_time": "2022-06-27T16:58:08.086Z"
   },
   {
    "duration": 12,
    "start_time": "2022-06-27T16:59:15.450Z"
   },
   {
    "duration": 4,
    "start_time": "2022-06-27T17:00:28.478Z"
   },
   {
    "duration": 3,
    "start_time": "2022-06-27T17:01:06.534Z"
   },
   {
    "duration": 4,
    "start_time": "2022-06-27T17:01:25.784Z"
   },
   {
    "duration": 58130,
    "start_time": "2022-06-27T17:01:29.641Z"
   },
   {
    "duration": 2805,
    "start_time": "2022-06-27T17:02:31.509Z"
   },
   {
    "duration": 501252,
    "start_time": "2022-06-27T17:02:37.451Z"
   },
   {
    "duration": 52,
    "start_time": "2022-06-27T17:10:58.704Z"
   },
   {
    "duration": 14716,
    "start_time": "2022-06-27T17:10:58.757Z"
   },
   {
    "duration": 10,
    "start_time": "2022-06-27T17:11:24.108Z"
   },
   {
    "duration": 142297,
    "start_time": "2022-06-27T17:12:47.176Z"
   },
   {
    "duration": 13,
    "start_time": "2022-06-27T17:15:16.920Z"
   },
   {
    "duration": 5091,
    "start_time": "2022-06-28T12:41:15.849Z"
   },
   {
    "duration": 147,
    "start_time": "2022-06-28T12:41:20.943Z"
   },
   {
    "duration": 23,
    "start_time": "2022-06-28T12:41:21.092Z"
   },
   {
    "duration": 9,
    "start_time": "2022-06-28T12:41:21.117Z"
   },
   {
    "duration": 17,
    "start_time": "2022-06-28T12:41:21.130Z"
   },
   {
    "duration": 9,
    "start_time": "2022-06-28T12:41:21.149Z"
   },
   {
    "duration": 16,
    "start_time": "2022-06-28T12:41:21.160Z"
   },
   {
    "duration": 5,
    "start_time": "2022-06-28T12:41:21.178Z"
   },
   {
    "duration": 383,
    "start_time": "2022-06-28T12:41:21.185Z"
   },
   {
    "duration": 442,
    "start_time": "2022-06-28T12:41:21.571Z"
   },
   {
    "duration": 36,
    "start_time": "2022-06-28T12:41:22.015Z"
   },
   {
    "duration": 754,
    "start_time": "2022-06-28T12:41:22.052Z"
   },
   {
    "duration": 298,
    "start_time": "2022-06-28T12:41:22.808Z"
   },
   {
    "duration": 289,
    "start_time": "2022-06-28T12:41:23.110Z"
   },
   {
    "duration": 3,
    "start_time": "2022-06-28T12:41:23.401Z"
   },
   {
    "duration": 55,
    "start_time": "2022-06-28T12:41:23.406Z"
   },
   {
    "duration": 8,
    "start_time": "2022-06-28T12:41:23.463Z"
   },
   {
    "duration": 5,
    "start_time": "2022-06-28T12:41:23.472Z"
   },
   {
    "duration": 9,
    "start_time": "2022-06-28T12:41:23.478Z"
   },
   {
    "duration": 10,
    "start_time": "2022-06-28T12:41:23.488Z"
   },
   {
    "duration": 19,
    "start_time": "2022-06-28T12:41:23.500Z"
   },
   {
    "duration": 26,
    "start_time": "2022-06-28T12:41:23.521Z"
   },
   {
    "duration": 4,
    "start_time": "2022-06-28T12:41:23.549Z"
   },
   {
    "duration": 70880,
    "start_time": "2022-06-28T12:41:23.555Z"
   },
   {
    "duration": 6766,
    "start_time": "2022-06-28T12:42:34.437Z"
   },
   {
    "duration": 1313767,
    "start_time": "2022-06-28T12:42:41.227Z"
   },
   {
    "duration": 3817528,
    "start_time": "2022-06-28T13:04:34.998Z"
   },
   {
    "duration": 39004,
    "start_time": "2022-06-28T14:08:12.540Z"
   },
   {
    "duration": 180,
    "start_time": "2022-06-28T14:08:51.547Z"
   },
   {
    "duration": 12505,
    "start_time": "2022-06-30T17:03:43.427Z"
   },
   {
    "duration": 303,
    "start_time": "2022-06-30T17:03:55.935Z"
   },
   {
    "duration": 201,
    "start_time": "2022-06-30T17:03:56.239Z"
   },
   {
    "duration": 93,
    "start_time": "2022-06-30T17:03:56.441Z"
   },
   {
    "duration": 89,
    "start_time": "2022-06-30T17:03:56.538Z"
   },
   {
    "duration": 95,
    "start_time": "2022-06-30T17:03:56.631Z"
   },
   {
    "duration": 215,
    "start_time": "2022-06-30T17:03:56.728Z"
   },
   {
    "duration": 194,
    "start_time": "2022-06-30T17:03:57.035Z"
   },
   {
    "duration": 1505,
    "start_time": "2022-06-30T17:03:57.233Z"
   },
   {
    "duration": 2697,
    "start_time": "2022-06-30T17:03:58.743Z"
   },
   {
    "duration": 9,
    "start_time": "2022-06-30T17:04:01.442Z"
   },
   {
    "duration": 3686,
    "start_time": "2022-06-30T17:04:01.458Z"
   },
   {
    "duration": 1909,
    "start_time": "2022-06-30T17:04:05.228Z"
   },
   {
    "duration": 1599,
    "start_time": "2022-06-30T17:04:07.227Z"
   },
   {
    "duration": 16,
    "start_time": "2022-06-30T17:04:08.832Z"
   },
   {
    "duration": 286,
    "start_time": "2022-06-30T17:04:08.849Z"
   },
   {
    "duration": 100,
    "start_time": "2022-06-30T17:04:09.142Z"
   },
   {
    "duration": 87,
    "start_time": "2022-06-30T17:04:09.244Z"
   },
   {
    "duration": 320,
    "start_time": "2022-06-30T17:04:09.334Z"
   },
   {
    "duration": 23,
    "start_time": "2022-06-30T17:05:28.127Z"
   },
   {
    "duration": 103,
    "start_time": "2022-06-30T17:06:20.428Z"
   },
   {
    "duration": 36204,
    "start_time": "2022-06-30T17:06:27.028Z"
   },
   {
    "duration": 4247,
    "start_time": "2022-06-30T20:39:10.515Z"
   },
   {
    "duration": 135,
    "start_time": "2022-06-30T20:39:14.764Z"
   },
   {
    "duration": 25,
    "start_time": "2022-06-30T20:39:14.901Z"
   },
   {
    "duration": 8,
    "start_time": "2022-06-30T20:39:14.928Z"
   },
   {
    "duration": 4,
    "start_time": "2022-06-30T20:39:14.937Z"
   },
   {
    "duration": 4,
    "start_time": "2022-06-30T20:39:14.959Z"
   },
   {
    "duration": 14,
    "start_time": "2022-06-30T20:39:14.964Z"
   },
   {
    "duration": 5,
    "start_time": "2022-06-30T20:39:14.979Z"
   },
   {
    "duration": 392,
    "start_time": "2022-06-30T20:39:14.985Z"
   },
   {
    "duration": 365,
    "start_time": "2022-06-30T20:39:15.379Z"
   },
   {
    "duration": 195,
    "start_time": "2022-06-30T20:39:15.746Z"
   },
   {
    "duration": 697,
    "start_time": "2022-06-30T20:39:15.943Z"
   },
   {
    "duration": 264,
    "start_time": "2022-06-30T20:39:16.641Z"
   },
   {
    "duration": 253,
    "start_time": "2022-06-30T20:39:16.906Z"
   },
   {
    "duration": 4,
    "start_time": "2022-06-30T20:39:17.160Z"
   },
   {
    "duration": 33,
    "start_time": "2022-06-30T20:39:17.166Z"
   },
   {
    "duration": 8,
    "start_time": "2022-06-30T20:39:17.200Z"
   },
   {
    "duration": 5,
    "start_time": "2022-06-30T20:39:17.209Z"
   },
   {
    "duration": 5950,
    "start_time": "2022-06-30T20:39:17.216Z"
   },
   {
    "duration": 63,
    "start_time": "2022-06-30T20:48:56.040Z"
   },
   {
    "duration": 47,
    "start_time": "2022-06-30T20:49:52.303Z"
   },
   {
    "duration": 65,
    "start_time": "2022-06-30T20:50:14.813Z"
   },
   {
    "duration": 49,
    "start_time": "2022-06-30T20:51:05.688Z"
   },
   {
    "duration": 5,
    "start_time": "2022-06-30T20:53:03.063Z"
   },
   {
    "duration": 196,
    "start_time": "2022-06-30T20:54:07.508Z"
   },
   {
    "duration": 4,
    "start_time": "2022-06-30T20:54:58.898Z"
   },
   {
    "duration": 188666,
    "start_time": "2022-06-30T20:55:23.410Z"
   },
   {
    "duration": 3,
    "start_time": "2022-06-30T21:00:01.292Z"
   },
   {
    "duration": 4,
    "start_time": "2022-06-30T21:00:04.579Z"
   },
   {
    "duration": 187941,
    "start_time": "2022-06-30T21:00:05.771Z"
   },
   {
    "duration": 4,
    "start_time": "2022-06-30T21:08:04.240Z"
   },
   {
    "duration": 152,
    "start_time": "2022-06-30T21:09:30.147Z"
   },
   {
    "duration": 4,
    "start_time": "2022-06-30T21:09:57.036Z"
   },
   {
    "duration": 3810,
    "start_time": "2022-06-30T21:09:58.520Z"
   },
   {
    "duration": 4,
    "start_time": "2022-06-30T21:14:16.633Z"
   },
   {
    "duration": 152179,
    "start_time": "2022-06-30T21:15:20.394Z"
   },
   {
    "duration": 5,
    "start_time": "2022-06-30T21:28:04.049Z"
   },
   {
    "duration": 585502,
    "start_time": "2022-06-30T21:28:54.063Z"
   },
   {
    "duration": 3,
    "start_time": "2022-06-30T21:38:39.568Z"
   },
   {
    "duration": 2,
    "start_time": "2022-06-30T21:40:28.396Z"
   },
   {
    "duration": 20077,
    "start_time": "2022-06-30T21:40:32.182Z"
   },
   {
    "duration": 11,
    "start_time": "2022-06-30T21:41:56.441Z"
   },
   {
    "duration": 9,
    "start_time": "2022-06-30T21:42:21.081Z"
   },
   {
    "duration": 39,
    "start_time": "2022-06-30T21:45:07.547Z"
   },
   {
    "duration": 10,
    "start_time": "2022-06-30T21:45:12.372Z"
   },
   {
    "duration": 6,
    "start_time": "2022-06-30T21:45:13.712Z"
   },
   {
    "duration": 4,
    "start_time": "2022-06-30T21:45:27.879Z"
   },
   {
    "duration": 246281,
    "start_time": "2022-06-30T21:45:28.589Z"
   },
   {
    "duration": 5,
    "start_time": "2022-06-30T21:50:42.744Z"
   },
   {
    "duration": 5060,
    "start_time": "2022-06-30T21:50:44.831Z"
   },
   {
    "duration": 5,
    "start_time": "2022-06-30T21:51:13.276Z"
   },
   {
    "duration": 167588,
    "start_time": "2022-06-30T21:51:17.379Z"
   },
   {
    "duration": 4,
    "start_time": "2022-06-30T21:54:29.555Z"
   },
   {
    "duration": 415791,
    "start_time": "2022-06-30T21:54:30.584Z"
   },
   {
    "duration": 49,
    "start_time": "2022-06-30T22:03:00.018Z"
   },
   {
    "duration": 10,
    "start_time": "2022-06-30T22:03:04.177Z"
   },
   {
    "duration": 6,
    "start_time": "2022-06-30T22:03:06.104Z"
   },
   {
    "duration": 4,
    "start_time": "2022-06-30T22:03:14.960Z"
   },
   {
    "duration": 468615,
    "start_time": "2022-06-30T22:03:17.393Z"
   },
   {
    "duration": 5,
    "start_time": "2022-06-30T22:11:27.351Z"
   },
   {
    "duration": 149773,
    "start_time": "2022-06-30T22:11:28.187Z"
   },
   {
    "duration": 4,
    "start_time": "2022-06-30T22:14:10.123Z"
   },
   {
    "duration": 141735,
    "start_time": "2022-06-30T22:14:10.771Z"
   },
   {
    "duration": 47,
    "start_time": "2022-06-30T22:18:03.579Z"
   },
   {
    "duration": 10,
    "start_time": "2022-06-30T22:18:08.708Z"
   },
   {
    "duration": 6,
    "start_time": "2022-06-30T22:18:09.878Z"
   },
   {
    "duration": 5,
    "start_time": "2022-06-30T22:18:28.514Z"
   },
   {
    "duration": 297116,
    "start_time": "2022-06-30T22:18:29.247Z"
   },
   {
    "duration": 4,
    "start_time": "2022-06-30T22:23:54.836Z"
   },
   {
    "duration": 1282732,
    "start_time": "2022-06-30T22:23:55.570Z"
   },
   {
    "duration": 4209,
    "start_time": "2022-07-01T12:51:34.619Z"
   },
   {
    "duration": 184,
    "start_time": "2022-07-01T12:51:38.831Z"
   },
   {
    "duration": 22,
    "start_time": "2022-07-01T12:51:39.016Z"
   },
   {
    "duration": 9,
    "start_time": "2022-07-01T12:51:39.040Z"
   },
   {
    "duration": 6,
    "start_time": "2022-07-01T12:51:39.050Z"
   },
   {
    "duration": 7,
    "start_time": "2022-07-01T12:51:39.057Z"
   },
   {
    "duration": 17,
    "start_time": "2022-07-01T12:51:39.065Z"
   },
   {
    "duration": 4,
    "start_time": "2022-07-01T12:51:39.084Z"
   },
   {
    "duration": 348,
    "start_time": "2022-07-01T12:51:39.090Z"
   },
   {
    "duration": 339,
    "start_time": "2022-07-01T12:51:39.440Z"
   },
   {
    "duration": 25,
    "start_time": "2022-07-01T12:51:39.780Z"
   },
   {
    "duration": 619,
    "start_time": "2022-07-01T12:51:39.806Z"
   },
   {
    "duration": 245,
    "start_time": "2022-07-01T12:51:40.426Z"
   },
   {
    "duration": 243,
    "start_time": "2022-07-01T12:51:40.673Z"
   },
   {
    "duration": 7,
    "start_time": "2022-07-01T12:51:40.918Z"
   },
   {
    "duration": 55,
    "start_time": "2022-07-01T12:51:40.927Z"
   },
   {
    "duration": 8,
    "start_time": "2022-07-01T12:51:40.984Z"
   },
   {
    "duration": 5,
    "start_time": "2022-07-01T12:51:40.994Z"
   },
   {
    "duration": 6371,
    "start_time": "2022-07-01T12:51:41.000Z"
   },
   {
    "duration": 3,
    "start_time": "2022-07-01T12:51:47.373Z"
   },
   {
    "duration": 10,
    "start_time": "2022-07-01T12:51:47.377Z"
   },
   {
    "duration": 559126,
    "start_time": "2022-07-01T12:51:47.389Z"
   },
   {
    "duration": 9,
    "start_time": "2022-07-01T13:01:06.516Z"
   },
   {
    "duration": 9940,
    "start_time": "2022-07-01T13:01:06.527Z"
   },
   {
    "duration": 5,
    "start_time": "2022-07-01T13:01:16.468Z"
   },
   {
    "duration": 2699664,
    "start_time": "2022-07-01T13:01:16.474Z"
   },
   {
    "duration": 5,
    "start_time": "2022-07-01T13:46:16.141Z"
   },
   {
    "duration": 0,
    "start_time": "2022-07-01T13:48:03.079Z"
   },
   {
    "duration": 0,
    "start_time": "2022-07-01T13:48:03.083Z"
   },
   {
    "duration": 0,
    "start_time": "2022-07-01T13:48:03.086Z"
   },
   {
    "duration": 0,
    "start_time": "2022-07-01T13:48:03.087Z"
   },
   {
    "duration": 0,
    "start_time": "2022-07-01T13:48:03.125Z"
   },
   {
    "duration": 0,
    "start_time": "2022-07-01T13:48:03.128Z"
   },
   {
    "duration": 0,
    "start_time": "2022-07-01T13:48:03.131Z"
   },
   {
    "duration": 0,
    "start_time": "2022-07-01T13:48:03.132Z"
   },
   {
    "duration": 0,
    "start_time": "2022-07-01T13:48:03.134Z"
   },
   {
    "duration": 0,
    "start_time": "2022-07-01T13:48:03.136Z"
   },
   {
    "duration": 0,
    "start_time": "2022-07-01T13:48:03.138Z"
   },
   {
    "duration": 0,
    "start_time": "2022-07-01T13:48:03.140Z"
   },
   {
    "duration": 1,
    "start_time": "2022-07-01T13:48:03.141Z"
   },
   {
    "duration": 0,
    "start_time": "2022-07-01T13:48:03.143Z"
   },
   {
    "duration": 0,
    "start_time": "2022-07-01T13:48:03.146Z"
   },
   {
    "duration": 0,
    "start_time": "2022-07-01T13:48:03.147Z"
   },
   {
    "duration": 0,
    "start_time": "2022-07-01T13:48:03.150Z"
   },
   {
    "duration": 0,
    "start_time": "2022-07-01T13:48:03.151Z"
   },
   {
    "duration": 0,
    "start_time": "2022-07-01T13:48:03.153Z"
   },
   {
    "duration": 0,
    "start_time": "2022-07-01T13:48:03.155Z"
   },
   {
    "duration": 0,
    "start_time": "2022-07-01T13:48:03.156Z"
   },
   {
    "duration": 0,
    "start_time": "2022-07-01T13:48:03.158Z"
   },
   {
    "duration": 0,
    "start_time": "2022-07-01T13:48:03.160Z"
   },
   {
    "duration": 0,
    "start_time": "2022-07-01T13:48:03.225Z"
   },
   {
    "duration": 0,
    "start_time": "2022-07-01T13:48:03.227Z"
   },
   {
    "duration": 0,
    "start_time": "2022-07-01T13:48:03.229Z"
   },
   {
    "duration": 0,
    "start_time": "2022-07-01T13:48:03.231Z"
   },
   {
    "duration": 0,
    "start_time": "2022-07-01T13:48:03.233Z"
   },
   {
    "duration": 0,
    "start_time": "2022-07-01T13:48:03.235Z"
   },
   {
    "duration": 0,
    "start_time": "2022-07-01T13:48:03.237Z"
   },
   {
    "duration": 0,
    "start_time": "2022-07-01T13:48:03.239Z"
   },
   {
    "duration": 0,
    "start_time": "2022-07-01T13:48:03.241Z"
   },
   {
    "duration": 0,
    "start_time": "2022-07-01T13:48:03.243Z"
   },
   {
    "duration": 0,
    "start_time": "2022-07-01T13:48:03.244Z"
   },
   {
    "duration": 0,
    "start_time": "2022-07-01T13:48:03.247Z"
   },
   {
    "duration": 0,
    "start_time": "2022-07-01T13:48:03.250Z"
   },
   {
    "duration": 1,
    "start_time": "2022-07-01T13:48:03.251Z"
   },
   {
    "duration": 0,
    "start_time": "2022-07-01T13:48:03.257Z"
   },
   {
    "duration": 0,
    "start_time": "2022-07-01T13:48:03.258Z"
   },
   {
    "duration": 2109,
    "start_time": "2022-07-01T13:50:14.237Z"
   },
   {
    "duration": 66,
    "start_time": "2022-07-01T13:50:16.349Z"
   },
   {
    "duration": 26,
    "start_time": "2022-07-01T13:50:16.416Z"
   },
   {
    "duration": 7,
    "start_time": "2022-07-01T13:50:16.444Z"
   },
   {
    "duration": 7,
    "start_time": "2022-07-01T13:50:16.453Z"
   },
   {
    "duration": 7,
    "start_time": "2022-07-01T13:50:16.461Z"
   },
   {
    "duration": 13,
    "start_time": "2022-07-01T13:50:16.470Z"
   },
   {
    "duration": 7,
    "start_time": "2022-07-01T13:50:16.485Z"
   },
   {
    "duration": 399,
    "start_time": "2022-07-01T13:50:16.493Z"
   },
   {
    "duration": 392,
    "start_time": "2022-07-01T13:50:16.896Z"
   },
   {
    "duration": 3,
    "start_time": "2022-07-01T13:50:17.289Z"
   },
   {
    "duration": 679,
    "start_time": "2022-07-01T13:50:17.294Z"
   },
   {
    "duration": 275,
    "start_time": "2022-07-01T13:50:17.975Z"
   },
   {
    "duration": 258,
    "start_time": "2022-07-01T13:50:18.251Z"
   },
   {
    "duration": 4,
    "start_time": "2022-07-01T13:50:18.511Z"
   },
   {
    "duration": 82,
    "start_time": "2022-07-01T13:50:18.516Z"
   },
   {
    "duration": 11,
    "start_time": "2022-07-01T13:50:18.599Z"
   },
   {
    "duration": 21,
    "start_time": "2022-07-01T13:50:18.611Z"
   },
   {
    "duration": 2193,
    "start_time": "2022-07-01T13:50:18.634Z"
   },
   {
    "duration": 3,
    "start_time": "2022-07-01T13:50:20.830Z"
   },
   {
    "duration": 9,
    "start_time": "2022-07-01T13:50:20.835Z"
   },
   {
    "duration": 608242,
    "start_time": "2022-07-01T13:50:20.846Z"
   },
   {
    "duration": 4,
    "start_time": "2022-07-01T14:00:29.090Z"
   },
   {
    "duration": 10935,
    "start_time": "2022-07-01T14:00:29.096Z"
   },
   {
    "duration": 5,
    "start_time": "2022-07-01T14:00:40.035Z"
   },
   {
    "duration": 405790,
    "start_time": "2022-07-01T14:00:40.042Z"
   },
   {
    "duration": 4,
    "start_time": "2022-07-01T14:07:25.833Z"
   },
   {
    "duration": 2718601,
    "start_time": "2022-07-01T14:07:25.840Z"
   },
   {
    "duration": 3,
    "start_time": "2022-07-01T14:52:44.443Z"
   },
   {
    "duration": 151583,
    "start_time": "2022-07-01T14:52:44.448Z"
   },
   {
    "duration": 5,
    "start_time": "2022-07-01T14:55:16.033Z"
   },
   {
    "duration": 20,
    "start_time": "2022-07-01T14:55:16.043Z"
   },
   {
    "duration": 6,
    "start_time": "2022-07-01T14:55:16.065Z"
   },
   {
    "duration": 6393,
    "start_time": "2022-07-01T14:55:16.072Z"
   },
   {
    "duration": 119,
    "start_time": "2022-07-01T14:55:22.467Z"
   },
   {
    "duration": 18051,
    "start_time": "2022-07-01T14:55:22.587Z"
   },
   {
    "duration": 2522456,
    "start_time": "2022-07-01T14:55:40.640Z"
   },
   {
    "duration": 0,
    "start_time": "2022-07-01T15:37:43.098Z"
   },
   {
    "duration": 0,
    "start_time": "2022-07-01T15:37:43.099Z"
   },
   {
    "duration": 2646172,
    "start_time": "2022-07-01T17:33:55.741Z"
   },
   {
    "duration": 2656574,
    "start_time": "2022-07-01T18:24:38.330Z"
   },
   {
    "duration": 1234,
    "start_time": "2022-07-01T19:18:57.204Z"
   },
   {
    "duration": 1298,
    "start_time": "2022-07-01T19:19:43.830Z"
   },
   {
    "duration": 12,
    "start_time": "2022-07-01T19:19:50.420Z"
   },
   {
    "duration": 10,
    "start_time": "2022-07-01T19:21:30.907Z"
   },
   {
    "duration": 5396,
    "start_time": "2022-07-02T16:35:56.523Z"
   },
   {
    "duration": 198,
    "start_time": "2022-07-02T16:36:08.856Z"
   },
   {
    "duration": 61,
    "start_time": "2022-07-02T16:36:14.031Z"
   },
   {
    "duration": 11,
    "start_time": "2022-07-02T16:36:14.838Z"
   },
   {
    "duration": 3,
    "start_time": "2022-07-02T16:36:18.242Z"
   },
   {
    "duration": 5,
    "start_time": "2022-07-02T16:36:19.848Z"
   },
   {
    "duration": 19,
    "start_time": "2022-07-02T16:36:22.451Z"
   },
   {
    "duration": 5,
    "start_time": "2022-07-02T16:36:27.557Z"
   },
   {
    "duration": 400,
    "start_time": "2022-07-02T16:36:35.709Z"
   },
   {
    "duration": 387,
    "start_time": "2022-07-02T16:36:40.758Z"
   },
   {
    "duration": 46,
    "start_time": "2022-07-02T16:36:46.306Z"
   },
   {
    "duration": 786,
    "start_time": "2022-07-02T16:36:50.844Z"
   },
   {
    "duration": 357,
    "start_time": "2022-07-02T16:36:56.277Z"
   },
   {
    "duration": 288,
    "start_time": "2022-07-02T16:37:01.473Z"
   },
   {
    "duration": 4,
    "start_time": "2022-07-02T16:37:15.189Z"
   },
   {
    "duration": 67,
    "start_time": "2022-07-02T16:37:19.432Z"
   },
   {
    "duration": 10,
    "start_time": "2022-07-02T16:37:42.936Z"
   },
   {
    "duration": 6,
    "start_time": "2022-07-02T16:37:48.170Z"
   },
   {
    "duration": 6825,
    "start_time": "2022-07-02T16:37:53.471Z"
   },
   {
    "duration": 3,
    "start_time": "2022-07-02T16:38:04.540Z"
   },
   {
    "duration": 6,
    "start_time": "2022-07-02T16:38:05.614Z"
   },
   {
    "duration": 5,
    "start_time": "2022-07-02T16:39:53.797Z"
   },
   {
    "duration": 258,
    "start_time": "2022-07-02T16:39:54.939Z"
   },
   {
    "duration": 4,
    "start_time": "2022-07-02T16:40:57.433Z"
   },
   {
    "duration": 169715,
    "start_time": "2022-07-02T16:40:57.933Z"
   },
   {
    "duration": 4,
    "start_time": "2022-07-02T16:45:06.259Z"
   },
   {
    "duration": 11765,
    "start_time": "2022-07-02T16:45:10.243Z"
   },
   {
    "duration": 3,
    "start_time": "2022-07-02T16:45:30.242Z"
   },
   {
    "duration": 13912,
    "start_time": "2022-07-02T16:45:34.633Z"
   },
   {
    "duration": 4684,
    "start_time": "2022-07-06T14:42:52.032Z"
   },
   {
    "duration": 129,
    "start_time": "2022-07-06T14:42:56.718Z"
   },
   {
    "duration": 26,
    "start_time": "2022-07-06T14:42:56.849Z"
   },
   {
    "duration": 10,
    "start_time": "2022-07-06T14:42:56.877Z"
   },
   {
    "duration": 12,
    "start_time": "2022-07-06T14:42:56.889Z"
   },
   {
    "duration": 5,
    "start_time": "2022-07-06T14:42:56.903Z"
   },
   {
    "duration": 15,
    "start_time": "2022-07-06T14:42:56.909Z"
   },
   {
    "duration": 8,
    "start_time": "2022-07-06T14:42:56.926Z"
   },
   {
    "duration": 372,
    "start_time": "2022-07-06T14:42:56.936Z"
   },
   {
    "duration": 429,
    "start_time": "2022-07-06T14:42:57.311Z"
   },
   {
    "duration": 36,
    "start_time": "2022-07-06T14:42:57.742Z"
   },
   {
    "duration": 752,
    "start_time": "2022-07-06T14:42:57.780Z"
   },
   {
    "duration": 300,
    "start_time": "2022-07-06T14:42:58.534Z"
   },
   {
    "duration": 313,
    "start_time": "2022-07-06T14:42:58.836Z"
   },
   {
    "duration": 4,
    "start_time": "2022-07-06T14:42:59.151Z"
   },
   {
    "duration": 104,
    "start_time": "2022-07-06T14:42:59.158Z"
   },
   {
    "duration": 10,
    "start_time": "2022-07-06T14:42:59.263Z"
   },
   {
    "duration": 7,
    "start_time": "2022-07-06T14:42:59.275Z"
   },
   {
    "duration": 6768,
    "start_time": "2022-07-06T14:42:59.284Z"
   },
   {
    "duration": 3,
    "start_time": "2022-07-06T14:43:06.055Z"
   },
   {
    "duration": 14,
    "start_time": "2022-07-06T14:43:06.060Z"
   },
   {
    "duration": 82009,
    "start_time": "2022-07-06T14:43:06.076Z"
   },
   {
    "duration": 4,
    "start_time": "2022-07-06T14:44:28.087Z"
   },
   {
    "duration": 242,
    "start_time": "2022-07-06T14:44:28.092Z"
   },
   {
    "duration": 6,
    "start_time": "2022-07-06T14:44:28.336Z"
   },
   {
    "duration": 2098367,
    "start_time": "2022-07-06T14:44:28.344Z"
   },
   {
    "duration": 4,
    "start_time": "2022-07-06T15:19:26.713Z"
   },
   {
    "duration": 248334,
    "start_time": "2022-07-06T15:19:26.720Z"
   },
   {
    "duration": 5,
    "start_time": "2022-07-06T15:23:35.056Z"
   },
   {
    "duration": 14256,
    "start_time": "2022-07-06T15:23:35.063Z"
   },
   {
    "duration": 3,
    "start_time": "2022-07-06T15:23:49.402Z"
   },
   {
    "duration": 36,
    "start_time": "2022-07-06T15:23:49.407Z"
   },
   {
    "duration": 0,
    "start_time": "2022-07-06T15:23:49.445Z"
   },
   {
    "duration": 0,
    "start_time": "2022-07-06T15:23:49.446Z"
   },
   {
    "duration": 0,
    "start_time": "2022-07-06T15:23:49.448Z"
   },
   {
    "duration": 0,
    "start_time": "2022-07-06T15:23:49.449Z"
   },
   {
    "duration": 0,
    "start_time": "2022-07-06T15:23:49.450Z"
   },
   {
    "duration": 0,
    "start_time": "2022-07-06T15:23:49.452Z"
   },
   {
    "duration": 0,
    "start_time": "2022-07-06T15:23:49.453Z"
   },
   {
    "duration": 0,
    "start_time": "2022-07-06T15:23:49.455Z"
   },
   {
    "duration": 0,
    "start_time": "2022-07-06T15:23:49.460Z"
   },
   {
    "duration": 5,
    "start_time": "2022-07-06T15:27:27.689Z"
   },
   {
    "duration": 1944,
    "start_time": "2022-07-06T15:27:30.266Z"
   },
   {
    "duration": 4,
    "start_time": "2022-07-06T15:27:40.976Z"
   },
   {
    "duration": 2155,
    "start_time": "2022-07-06T15:55:50.729Z"
   },
   {
    "duration": 48,
    "start_time": "2022-07-06T15:55:52.887Z"
   },
   {
    "duration": 39,
    "start_time": "2022-07-06T15:55:52.936Z"
   },
   {
    "duration": 11,
    "start_time": "2022-07-06T15:55:52.978Z"
   },
   {
    "duration": 4,
    "start_time": "2022-07-06T15:55:53.001Z"
   },
   {
    "duration": 15,
    "start_time": "2022-07-06T15:55:53.007Z"
   },
   {
    "duration": 22,
    "start_time": "2022-07-06T15:55:53.024Z"
   },
   {
    "duration": 5,
    "start_time": "2022-07-06T15:55:53.048Z"
   },
   {
    "duration": 363,
    "start_time": "2022-07-06T15:55:53.055Z"
   },
   {
    "duration": 458,
    "start_time": "2022-07-06T15:55:53.420Z"
   },
   {
    "duration": 3,
    "start_time": "2022-07-06T15:55:53.880Z"
   },
   {
    "duration": 833,
    "start_time": "2022-07-06T15:55:53.884Z"
   },
   {
    "duration": 297,
    "start_time": "2022-07-06T15:55:54.718Z"
   },
   {
    "duration": 359,
    "start_time": "2022-07-06T15:55:55.018Z"
   },
   {
    "duration": 6,
    "start_time": "2022-07-06T15:55:55.379Z"
   },
   {
    "duration": 78,
    "start_time": "2022-07-06T15:55:55.387Z"
   },
   {
    "duration": 12,
    "start_time": "2022-07-06T15:55:55.468Z"
   },
   {
    "duration": 19,
    "start_time": "2022-07-06T15:55:55.482Z"
   },
   {
    "duration": 2285,
    "start_time": "2022-07-06T15:55:55.503Z"
   },
   {
    "duration": 3,
    "start_time": "2022-07-06T15:55:57.790Z"
   },
   {
    "duration": 17,
    "start_time": "2022-07-06T15:55:57.795Z"
   },
   {
    "duration": 81333,
    "start_time": "2022-07-06T15:55:57.814Z"
   },
   {
    "duration": 5,
    "start_time": "2022-07-06T15:57:19.149Z"
   },
   {
    "duration": 2016,
    "start_time": "2022-07-06T15:57:19.156Z"
   },
   {
    "duration": 4,
    "start_time": "2022-07-06T15:57:21.173Z"
   },
   {
    "duration": 2603,
    "start_time": "2022-07-06T16:57:52.527Z"
   },
   {
    "duration": 57,
    "start_time": "2022-07-06T16:57:55.133Z"
   },
   {
    "duration": 45,
    "start_time": "2022-07-06T16:57:55.192Z"
   },
   {
    "duration": 13,
    "start_time": "2022-07-06T16:57:55.242Z"
   },
   {
    "duration": 26,
    "start_time": "2022-07-06T16:57:55.257Z"
   },
   {
    "duration": 12,
    "start_time": "2022-07-06T16:57:55.285Z"
   },
   {
    "duration": 67,
    "start_time": "2022-07-06T16:57:55.299Z"
   },
   {
    "duration": 45,
    "start_time": "2022-07-06T16:57:55.368Z"
   },
   {
    "duration": 414,
    "start_time": "2022-07-06T16:57:55.415Z"
   },
   {
    "duration": 353,
    "start_time": "2022-07-06T16:57:55.833Z"
   },
   {
    "duration": 3,
    "start_time": "2022-07-06T16:57:56.188Z"
   },
   {
    "duration": 1014,
    "start_time": "2022-07-06T16:57:56.202Z"
   },
   {
    "duration": 367,
    "start_time": "2022-07-06T16:57:57.221Z"
   },
   {
    "duration": 347,
    "start_time": "2022-07-06T16:57:57.590Z"
   },
   {
    "duration": 6,
    "start_time": "2022-07-06T16:57:57.940Z"
   },
   {
    "duration": 108,
    "start_time": "2022-07-06T16:57:57.948Z"
   },
   {
    "duration": 10,
    "start_time": "2022-07-06T16:57:58.059Z"
   },
   {
    "duration": 22,
    "start_time": "2022-07-06T16:57:58.071Z"
   },
   {
    "duration": 2585,
    "start_time": "2022-07-06T16:57:58.095Z"
   },
   {
    "duration": 3,
    "start_time": "2022-07-06T16:58:00.682Z"
   },
   {
    "duration": 55,
    "start_time": "2022-07-06T16:58:00.687Z"
   },
   {
    "duration": 93747,
    "start_time": "2022-07-06T16:58:00.744Z"
   },
   {
    "duration": 11,
    "start_time": "2022-07-06T16:59:34.493Z"
   },
   {
    "duration": 2402,
    "start_time": "2022-07-06T16:59:34.507Z"
   },
   {
    "duration": 14,
    "start_time": "2022-07-06T16:59:36.914Z"
   },
   {
    "duration": 3641974,
    "start_time": "2022-07-06T16:59:36.937Z"
   },
   {
    "duration": 4,
    "start_time": "2022-07-06T18:00:18.912Z"
   },
   {
    "duration": 127676,
    "start_time": "2022-07-06T18:00:18.920Z"
   },
   {
    "duration": 4,
    "start_time": "2022-07-06T18:02:26.598Z"
   },
   {
    "duration": 13997,
    "start_time": "2022-07-06T18:02:26.604Z"
   },
   {
    "duration": 5,
    "start_time": "2022-07-06T18:02:40.603Z"
   },
   {
    "duration": 99,
    "start_time": "2022-07-06T18:02:40.611Z"
   },
   {
    "duration": 9,
    "start_time": "2022-07-06T18:02:40.712Z"
   },
   {
    "duration": 746,
    "start_time": "2022-07-06T18:02:40.722Z"
   },
   {
    "duration": 11,
    "start_time": "2022-07-06T18:02:41.470Z"
   },
   {
    "duration": 19730,
    "start_time": "2022-07-06T18:02:41.485Z"
   },
   {
    "duration": 105852,
    "start_time": "2022-07-06T18:03:01.217Z"
   },
   {
    "duration": 34,
    "start_time": "2022-07-06T18:04:47.070Z"
   },
   {
    "duration": 109,
    "start_time": "2022-07-06T18:04:47.106Z"
   },
   {
    "duration": 2276,
    "start_time": "2022-07-06T18:17:48.579Z"
   },
   {
    "duration": 44,
    "start_time": "2022-07-06T18:17:50.858Z"
   },
   {
    "duration": 27,
    "start_time": "2022-07-06T18:17:50.904Z"
   },
   {
    "duration": 8,
    "start_time": "2022-07-06T18:17:50.933Z"
   },
   {
    "duration": 5,
    "start_time": "2022-07-06T18:17:50.943Z"
   },
   {
    "duration": 7,
    "start_time": "2022-07-06T18:17:50.951Z"
   },
   {
    "duration": 41,
    "start_time": "2022-07-06T18:17:50.959Z"
   },
   {
    "duration": 6,
    "start_time": "2022-07-06T18:17:51.003Z"
   },
   {
    "duration": 360,
    "start_time": "2022-07-06T18:17:51.011Z"
   },
   {
    "duration": 275,
    "start_time": "2022-07-06T18:17:51.373Z"
   },
   {
    "duration": 3,
    "start_time": "2022-07-06T18:17:51.649Z"
   },
   {
    "duration": 674,
    "start_time": "2022-07-06T18:17:51.654Z"
   },
   {
    "duration": 437,
    "start_time": "2022-07-06T18:17:52.329Z"
   },
   {
    "duration": 292,
    "start_time": "2022-07-06T18:17:52.768Z"
   },
   {
    "duration": 5,
    "start_time": "2022-07-06T18:17:53.062Z"
   },
   {
    "duration": 79,
    "start_time": "2022-07-06T18:17:53.068Z"
   },
   {
    "duration": 11,
    "start_time": "2022-07-06T18:17:53.149Z"
   },
   {
    "duration": 7,
    "start_time": "2022-07-06T18:17:53.162Z"
   },
   {
    "duration": 2256,
    "start_time": "2022-07-06T18:17:53.171Z"
   },
   {
    "duration": 4,
    "start_time": "2022-07-06T18:17:55.429Z"
   },
   {
    "duration": 10,
    "start_time": "2022-07-06T18:17:55.435Z"
   },
   {
    "duration": 81542,
    "start_time": "2022-07-06T18:17:55.447Z"
   },
   {
    "duration": 4,
    "start_time": "2022-07-06T18:19:16.990Z"
   },
   {
    "duration": 1910,
    "start_time": "2022-07-06T18:19:17.001Z"
   },
   {
    "duration": 5,
    "start_time": "2022-07-06T18:19:18.913Z"
   },
   {
    "duration": 3287287,
    "start_time": "2022-07-06T18:19:18.920Z"
   },
   {
    "duration": 5,
    "start_time": "2022-07-06T19:14:06.209Z"
   },
   {
    "duration": 167545,
    "start_time": "2022-07-06T19:14:06.217Z"
   },
   {
    "duration": 3,
    "start_time": "2022-07-06T19:16:53.764Z"
   },
   {
    "duration": 14352,
    "start_time": "2022-07-06T19:16:53.769Z"
   },
   {
    "duration": 3,
    "start_time": "2022-07-06T19:17:08.123Z"
   },
   {
    "duration": 95,
    "start_time": "2022-07-06T19:17:08.215Z"
   },
   {
    "duration": 11,
    "start_time": "2022-07-06T19:17:08.315Z"
   },
   {
    "duration": 851,
    "start_time": "2022-07-06T19:17:08.328Z"
   },
   {
    "duration": 11,
    "start_time": "2022-07-06T19:17:09.181Z"
   },
   {
    "duration": 78212,
    "start_time": "2022-07-06T19:17:09.202Z"
   },
   {
    "duration": 100883,
    "start_time": "2022-07-06T19:18:27.416Z"
   },
   {
    "duration": 16,
    "start_time": "2022-07-06T19:20:08.301Z"
   },
   {
    "duration": 192,
    "start_time": "2022-07-06T19:20:08.319Z"
   },
   {
    "duration": 4,
    "start_time": "2022-07-06T19:23:45.779Z"
   },
   {
    "duration": 57,
    "start_time": "2022-07-06T19:23:48.753Z"
   },
   {
    "duration": 10,
    "start_time": "2022-07-06T19:23:54.486Z"
   },
   {
    "duration": 5,
    "start_time": "2022-07-06T19:23:57.866Z"
   },
   {
    "duration": 2,
    "start_time": "2022-07-06T19:24:05.708Z"
   },
   {
    "duration": 5,
    "start_time": "2022-07-06T19:24:06.323Z"
   },
   {
    "duration": 78506,
    "start_time": "2022-07-06T19:24:09.547Z"
   },
   {
    "duration": 4,
    "start_time": "2022-07-06T19:26:21.856Z"
   },
   {
    "duration": 1920,
    "start_time": "2022-07-06T19:26:23.969Z"
   },
   {
    "duration": 4,
    "start_time": "2022-07-06T19:26:33.656Z"
   },
   {
    "duration": 1369214,
    "start_time": "2022-07-06T19:26:34.800Z"
   },
   {
    "duration": 4,
    "start_time": "2022-07-06T19:57:12.162Z"
   },
   {
    "duration": 232522,
    "start_time": "2022-07-06T19:57:14.876Z"
   },
   {
    "duration": 4,
    "start_time": "2022-07-06T20:01:19.868Z"
   },
   {
    "duration": 17627,
    "start_time": "2022-07-06T20:01:22.881Z"
   },
   {
    "duration": 3,
    "start_time": "2022-07-06T20:01:50.717Z"
   },
   {
    "duration": 9,
    "start_time": "2022-07-06T20:01:51.645Z"
   },
   {
    "duration": 3,
    "start_time": "2022-07-06T20:01:58.698Z"
   },
   {
    "duration": 815,
    "start_time": "2022-07-06T20:02:01.184Z"
   },
   {
    "duration": 14,
    "start_time": "2022-07-06T20:02:06.327Z"
   },
   {
    "duration": 544192,
    "start_time": "2022-07-06T20:02:09.822Z"
   },
   {
    "duration": 3,
    "start_time": "2022-07-07T13:44:17.222Z"
   },
   {
    "duration": 5,
    "start_time": "2022-07-07T13:44:49.723Z"
   },
   {
    "duration": 5,
    "start_time": "2022-07-07T13:45:38.461Z"
   },
   {
    "duration": 4,
    "start_time": "2022-07-07T13:46:04.672Z"
   },
   {
    "duration": 3,
    "start_time": "2022-07-07T13:46:15.720Z"
   },
   {
    "duration": 2277,
    "start_time": "2022-07-07T13:46:24.653Z"
   },
   {
    "duration": 44,
    "start_time": "2022-07-07T13:46:26.932Z"
   },
   {
    "duration": 26,
    "start_time": "2022-07-07T13:46:26.978Z"
   },
   {
    "duration": 11,
    "start_time": "2022-07-07T13:46:27.007Z"
   },
   {
    "duration": 9,
    "start_time": "2022-07-07T13:46:27.020Z"
   },
   {
    "duration": 7,
    "start_time": "2022-07-07T13:46:27.030Z"
   },
   {
    "duration": 13,
    "start_time": "2022-07-07T13:46:27.039Z"
   },
   {
    "duration": 8,
    "start_time": "2022-07-07T13:46:27.053Z"
   },
   {
    "duration": 368,
    "start_time": "2022-07-07T13:46:27.063Z"
   },
   {
    "duration": 315,
    "start_time": "2022-07-07T13:46:27.433Z"
   },
   {
    "duration": 3,
    "start_time": "2022-07-07T13:46:27.750Z"
   },
   {
    "duration": 730,
    "start_time": "2022-07-07T13:46:27.754Z"
   },
   {
    "duration": 291,
    "start_time": "2022-07-07T13:46:28.486Z"
   },
   {
    "duration": 285,
    "start_time": "2022-07-07T13:46:28.780Z"
   },
   {
    "duration": 4,
    "start_time": "2022-07-07T13:46:29.067Z"
   },
   {
    "duration": 71,
    "start_time": "2022-07-07T13:46:29.073Z"
   },
   {
    "duration": 9,
    "start_time": "2022-07-07T13:46:29.145Z"
   },
   {
    "duration": 20,
    "start_time": "2022-07-07T13:46:29.155Z"
   },
   {
    "duration": 2227,
    "start_time": "2022-07-07T13:46:29.176Z"
   },
   {
    "duration": 3,
    "start_time": "2022-07-07T13:46:31.407Z"
   },
   {
    "duration": 29,
    "start_time": "2022-07-07T13:46:31.413Z"
   },
   {
    "duration": 77264,
    "start_time": "2022-07-07T13:46:31.444Z"
   },
   {
    "duration": 8,
    "start_time": "2022-07-07T13:47:48.712Z"
   },
   {
    "duration": 2245,
    "start_time": "2022-07-07T13:47:48.722Z"
   },
   {
    "duration": 4,
    "start_time": "2022-07-07T13:47:50.969Z"
   },
   {
    "duration": 1186544,
    "start_time": "2022-07-07T13:47:50.975Z"
   },
   {
    "duration": 5,
    "start_time": "2022-07-07T14:07:37.522Z"
   },
   {
    "duration": 547,
    "start_time": "2022-07-07T14:07:37.530Z"
   },
   {
    "duration": 4,
    "start_time": "2022-07-07T14:07:38.079Z"
   },
   {
    "duration": 13640,
    "start_time": "2022-07-07T14:07:38.085Z"
   },
   {
    "duration": 77,
    "start_time": "2022-07-07T14:07:51.731Z"
   },
   {
    "duration": 117,
    "start_time": "2022-07-07T14:07:51.810Z"
   },
   {
    "duration": 0,
    "start_time": "2022-07-07T14:07:51.928Z"
   },
   {
    "duration": 0,
    "start_time": "2022-07-07T14:07:51.930Z"
   },
   {
    "duration": 0,
    "start_time": "2022-07-07T14:07:51.931Z"
   },
   {
    "duration": 0,
    "start_time": "2022-07-07T14:07:51.933Z"
   },
   {
    "duration": 0,
    "start_time": "2022-07-07T14:07:51.934Z"
   },
   {
    "duration": 0,
    "start_time": "2022-07-07T14:07:51.935Z"
   },
   {
    "duration": 0,
    "start_time": "2022-07-07T14:07:51.936Z"
   },
   {
    "duration": 5,
    "start_time": "2022-07-07T14:08:35.645Z"
   },
   {
    "duration": 16753,
    "start_time": "2022-07-07T14:08:36.606Z"
   },
   {
    "duration": 5,
    "start_time": "2022-07-07T14:09:31.725Z"
   },
   {
    "duration": 14743,
    "start_time": "2022-07-07T14:09:32.481Z"
   },
   {
    "duration": 3,
    "start_time": "2022-07-07T14:09:52.174Z"
   },
   {
    "duration": 16,
    "start_time": "2022-07-07T14:09:52.884Z"
   },
   {
    "duration": 3,
    "start_time": "2022-07-07T14:10:15.374Z"
   },
   {
    "duration": 16,
    "start_time": "2022-07-07T14:10:16.552Z"
   },
   {
    "duration": 3,
    "start_time": "2022-07-07T14:10:41.952Z"
   },
   {
    "duration": 5,
    "start_time": "2022-07-07T14:10:42.956Z"
   },
   {
    "duration": 79578,
    "start_time": "2022-07-07T14:10:46.516Z"
   },
   {
    "duration": 16,
    "start_time": "2022-07-07T14:16:57.921Z"
   },
   {
    "duration": 2342,
    "start_time": "2022-07-07T14:17:14.019Z"
   },
   {
    "duration": 52,
    "start_time": "2022-07-07T14:17:16.363Z"
   },
   {
    "duration": 27,
    "start_time": "2022-07-07T14:17:16.419Z"
   },
   {
    "duration": 8,
    "start_time": "2022-07-07T14:17:16.448Z"
   },
   {
    "duration": 19,
    "start_time": "2022-07-07T14:17:16.458Z"
   },
   {
    "duration": 10,
    "start_time": "2022-07-07T14:17:16.478Z"
   },
   {
    "duration": 22,
    "start_time": "2022-07-07T14:17:16.490Z"
   },
   {
    "duration": 13,
    "start_time": "2022-07-07T14:17:16.513Z"
   },
   {
    "duration": 395,
    "start_time": "2022-07-07T14:17:16.527Z"
   },
   {
    "duration": 463,
    "start_time": "2022-07-07T14:17:16.924Z"
   },
   {
    "duration": 4,
    "start_time": "2022-07-07T14:17:17.389Z"
   },
   {
    "duration": 828,
    "start_time": "2022-07-07T14:17:17.395Z"
   },
   {
    "duration": 286,
    "start_time": "2022-07-07T14:17:18.225Z"
   },
   {
    "duration": 293,
    "start_time": "2022-07-07T14:17:18.517Z"
   },
   {
    "duration": 6,
    "start_time": "2022-07-07T14:17:18.812Z"
   },
   {
    "duration": 68,
    "start_time": "2022-07-07T14:17:18.820Z"
   },
   {
    "duration": 23,
    "start_time": "2022-07-07T14:17:18.889Z"
   },
   {
    "duration": 8,
    "start_time": "2022-07-07T14:17:18.914Z"
   },
   {
    "duration": 2302,
    "start_time": "2022-07-07T14:17:18.924Z"
   },
   {
    "duration": 4,
    "start_time": "2022-07-07T14:17:21.228Z"
   },
   {
    "duration": 15,
    "start_time": "2022-07-07T14:17:21.234Z"
   },
   {
    "duration": 78437,
    "start_time": "2022-07-07T14:17:21.251Z"
   },
   {
    "duration": 5,
    "start_time": "2022-07-07T14:18:39.690Z"
   },
   {
    "duration": 2100,
    "start_time": "2022-07-07T14:18:39.700Z"
   },
   {
    "duration": 11,
    "start_time": "2022-07-07T14:18:41.803Z"
   },
   {
    "duration": 217691,
    "start_time": "2022-07-07T14:18:41.816Z"
   },
   {
    "duration": 4,
    "start_time": "2022-07-07T14:22:19.509Z"
   },
   {
    "duration": 525410,
    "start_time": "2022-07-07T14:22:19.515Z"
   },
   {
    "duration": 4,
    "start_time": "2022-07-07T14:31:04.928Z"
   },
   {
    "duration": 15573,
    "start_time": "2022-07-07T14:31:04.934Z"
   },
   {
    "duration": 92,
    "start_time": "2022-07-07T14:31:20.509Z"
   },
   {
    "duration": 104,
    "start_time": "2022-07-07T14:31:20.603Z"
   },
   {
    "duration": 19,
    "start_time": "2022-07-07T14:31:20.708Z"
   },
   {
    "duration": 783,
    "start_time": "2022-07-07T14:31:20.729Z"
   },
   {
    "duration": 15,
    "start_time": "2022-07-07T14:31:21.515Z"
   },
   {
    "duration": 1581,
    "start_time": "2022-07-07T14:31:21.532Z"
   },
   {
    "duration": 393533,
    "start_time": "2022-07-07T14:31:23.115Z"
   },
   {
    "duration": 53,
    "start_time": "2022-07-07T14:37:56.649Z"
   },
   {
    "duration": 104,
    "start_time": "2022-07-07T14:37:56.703Z"
   },
   {
    "duration": 4,
    "start_time": "2022-07-07T15:01:26.294Z"
   },
   {
    "duration": 4,
    "start_time": "2022-07-07T15:01:45.072Z"
   },
   {
    "duration": 2240,
    "start_time": "2022-07-07T15:01:48.570Z"
   },
   {
    "duration": 45,
    "start_time": "2022-07-07T15:01:50.813Z"
   },
   {
    "duration": 25,
    "start_time": "2022-07-07T15:01:50.860Z"
   },
   {
    "duration": 7,
    "start_time": "2022-07-07T15:01:50.888Z"
   },
   {
    "duration": 21,
    "start_time": "2022-07-07T15:01:50.901Z"
   },
   {
    "duration": 11,
    "start_time": "2022-07-07T15:01:50.924Z"
   },
   {
    "duration": 26,
    "start_time": "2022-07-07T15:01:50.937Z"
   },
   {
    "duration": 24,
    "start_time": "2022-07-07T15:01:50.965Z"
   },
   {
    "duration": 332,
    "start_time": "2022-07-07T15:01:50.991Z"
   },
   {
    "duration": 271,
    "start_time": "2022-07-07T15:01:51.327Z"
   },
   {
    "duration": 4,
    "start_time": "2022-07-07T15:01:51.600Z"
   },
   {
    "duration": 721,
    "start_time": "2022-07-07T15:01:51.606Z"
   },
   {
    "duration": 275,
    "start_time": "2022-07-07T15:01:52.328Z"
   },
   {
    "duration": 261,
    "start_time": "2022-07-07T15:01:52.605Z"
   },
   {
    "duration": 4,
    "start_time": "2022-07-07T15:01:52.868Z"
   },
   {
    "duration": 70,
    "start_time": "2022-07-07T15:01:52.874Z"
   },
   {
    "duration": 9,
    "start_time": "2022-07-07T15:01:52.945Z"
   },
   {
    "duration": 31,
    "start_time": "2022-07-07T15:01:52.955Z"
   },
   {
    "duration": 2238,
    "start_time": "2022-07-07T15:01:52.988Z"
   },
   {
    "duration": 6,
    "start_time": "2022-07-07T15:01:55.229Z"
   },
   {
    "duration": 29,
    "start_time": "2022-07-07T15:01:55.237Z"
   },
   {
    "duration": 67522,
    "start_time": "2022-07-07T15:01:55.268Z"
   },
   {
    "duration": 8,
    "start_time": "2022-07-07T15:03:02.792Z"
   },
   {
    "duration": 1945,
    "start_time": "2022-07-07T15:03:02.802Z"
   },
   {
    "duration": 5,
    "start_time": "2022-07-07T15:03:04.749Z"
   },
   {
    "duration": 147556,
    "start_time": "2022-07-07T15:03:04.755Z"
   },
   {
    "duration": 4,
    "start_time": "2022-07-07T15:05:32.312Z"
   },
   {
    "duration": 16499,
    "start_time": "2022-07-07T15:05:32.319Z"
   },
   {
    "duration": 4,
    "start_time": "2022-07-07T15:05:48.820Z"
   },
   {
    "duration": 9682,
    "start_time": "2022-07-07T15:05:48.825Z"
   },
   {
    "duration": 2,
    "start_time": "2022-07-07T15:05:58.509Z"
   },
   {
    "duration": 110,
    "start_time": "2022-07-07T15:05:58.602Z"
   },
   {
    "duration": 8,
    "start_time": "2022-07-07T15:05:58.714Z"
   },
   {
    "duration": 764,
    "start_time": "2022-07-07T15:05:58.724Z"
   },
   {
    "duration": 15,
    "start_time": "2022-07-07T15:05:59.490Z"
   },
   {
    "duration": 1405,
    "start_time": "2022-07-07T15:05:59.507Z"
   },
   {
    "duration": 11203,
    "start_time": "2022-07-07T15:06:00.914Z"
   },
   {
    "duration": 12,
    "start_time": "2022-07-07T15:06:12.119Z"
   },
   {
    "duration": 173,
    "start_time": "2022-07-07T15:06:12.133Z"
   },
   {
    "duration": 5,
    "start_time": "2022-07-07T15:21:30.940Z"
   },
   {
    "duration": 4,
    "start_time": "2022-07-07T15:21:47.746Z"
   },
   {
    "duration": 53,
    "start_time": "2022-07-07T15:22:35.778Z"
   },
   {
    "duration": 2088,
    "start_time": "2022-07-07T15:22:41.458Z"
   },
   {
    "duration": 45,
    "start_time": "2022-07-07T15:22:43.549Z"
   },
   {
    "duration": 26,
    "start_time": "2022-07-07T15:22:43.596Z"
   },
   {
    "duration": 8,
    "start_time": "2022-07-07T15:22:43.625Z"
   },
   {
    "duration": 7,
    "start_time": "2022-07-07T15:22:43.635Z"
   },
   {
    "duration": 8,
    "start_time": "2022-07-07T15:22:43.644Z"
   },
   {
    "duration": 28,
    "start_time": "2022-07-07T15:22:43.653Z"
   },
   {
    "duration": 5,
    "start_time": "2022-07-07T15:22:43.682Z"
   },
   {
    "duration": 341,
    "start_time": "2022-07-07T15:22:43.689Z"
   },
   {
    "duration": 268,
    "start_time": "2022-07-07T15:22:44.033Z"
   },
   {
    "duration": 4,
    "start_time": "2022-07-07T15:22:44.302Z"
   },
   {
    "duration": 716,
    "start_time": "2022-07-07T15:22:44.307Z"
   },
   {
    "duration": 282,
    "start_time": "2022-07-07T15:22:45.025Z"
   },
   {
    "duration": 294,
    "start_time": "2022-07-07T15:22:45.310Z"
   },
   {
    "duration": 4,
    "start_time": "2022-07-07T15:22:45.606Z"
   },
   {
    "duration": 58,
    "start_time": "2022-07-07T15:22:45.612Z"
   },
   {
    "duration": 31,
    "start_time": "2022-07-07T15:22:45.672Z"
   },
   {
    "duration": 6,
    "start_time": "2022-07-07T15:22:45.705Z"
   },
   {
    "duration": 2272,
    "start_time": "2022-07-07T15:22:45.713Z"
   },
   {
    "duration": 3,
    "start_time": "2022-07-07T15:22:47.987Z"
   },
   {
    "duration": 17,
    "start_time": "2022-07-07T15:22:47.992Z"
   },
   {
    "duration": 66751,
    "start_time": "2022-07-07T15:22:48.011Z"
   },
   {
    "duration": 4,
    "start_time": "2022-07-07T15:23:54.764Z"
   },
   {
    "duration": 2014,
    "start_time": "2022-07-07T15:23:54.770Z"
   },
   {
    "duration": 4,
    "start_time": "2022-07-07T15:23:56.785Z"
   },
   {
    "duration": 145212,
    "start_time": "2022-07-07T15:23:56.800Z"
   },
   {
    "duration": 4,
    "start_time": "2022-07-07T15:26:22.014Z"
   },
   {
    "duration": 296313,
    "start_time": "2022-07-07T15:26:22.021Z"
   },
   {
    "duration": 4,
    "start_time": "2022-07-07T15:31:18.336Z"
   },
   {
    "duration": 11560,
    "start_time": "2022-07-07T15:31:18.342Z"
   },
   {
    "duration": 4,
    "start_time": "2022-07-07T15:31:29.904Z"
   },
   {
    "duration": 116,
    "start_time": "2022-07-07T15:31:29.909Z"
   },
   {
    "duration": 30,
    "start_time": "2022-07-07T15:31:30.026Z"
   },
   {
    "duration": 770,
    "start_time": "2022-07-07T15:31:30.057Z"
   },
   {
    "duration": 14,
    "start_time": "2022-07-07T15:31:30.829Z"
   },
   {
    "duration": 1564,
    "start_time": "2022-07-07T15:31:30.845Z"
   },
   {
    "duration": 205609,
    "start_time": "2022-07-07T15:31:32.411Z"
   },
   {
    "duration": 12,
    "start_time": "2022-07-07T15:34:58.022Z"
   },
   {
    "duration": 80,
    "start_time": "2022-07-07T15:34:58.036Z"
   },
   {
    "duration": 53,
    "start_time": "2022-07-07T15:40:34.214Z"
   },
   {
    "duration": 2229,
    "start_time": "2022-07-07T15:40:37.677Z"
   },
   {
    "duration": 46,
    "start_time": "2022-07-07T15:40:39.909Z"
   },
   {
    "duration": 26,
    "start_time": "2022-07-07T15:40:39.957Z"
   },
   {
    "duration": 7,
    "start_time": "2022-07-07T15:40:39.985Z"
   },
   {
    "duration": 10,
    "start_time": "2022-07-07T15:40:39.994Z"
   },
   {
    "duration": 12,
    "start_time": "2022-07-07T15:40:40.006Z"
   },
   {
    "duration": 16,
    "start_time": "2022-07-07T15:40:40.020Z"
   },
   {
    "duration": 6,
    "start_time": "2022-07-07T15:40:40.038Z"
   },
   {
    "duration": 373,
    "start_time": "2022-07-07T15:40:40.046Z"
   },
   {
    "duration": 268,
    "start_time": "2022-07-07T15:40:40.421Z"
   },
   {
    "duration": 2,
    "start_time": "2022-07-07T15:40:40.691Z"
   },
   {
    "duration": 721,
    "start_time": "2022-07-07T15:40:40.695Z"
   },
   {
    "duration": 267,
    "start_time": "2022-07-07T15:40:41.418Z"
   },
   {
    "duration": 267,
    "start_time": "2022-07-07T15:40:41.687Z"
   },
   {
    "duration": 5,
    "start_time": "2022-07-07T15:40:41.956Z"
   },
   {
    "duration": 64,
    "start_time": "2022-07-07T15:40:41.962Z"
   },
   {
    "duration": 8,
    "start_time": "2022-07-07T15:40:42.028Z"
   },
   {
    "duration": 17,
    "start_time": "2022-07-07T15:40:42.038Z"
   },
   {
    "duration": 2200,
    "start_time": "2022-07-07T15:40:42.057Z"
   },
   {
    "duration": 3,
    "start_time": "2022-07-07T15:40:44.259Z"
   },
   {
    "duration": 17,
    "start_time": "2022-07-07T15:40:44.264Z"
   },
   {
    "duration": 65005,
    "start_time": "2022-07-07T15:40:44.283Z"
   },
   {
    "duration": 5,
    "start_time": "2022-07-07T15:41:49.289Z"
   },
   {
    "duration": 2143,
    "start_time": "2022-07-07T15:41:49.296Z"
   },
   {
    "duration": 4,
    "start_time": "2022-07-07T15:41:51.440Z"
   },
   {
    "duration": 147964,
    "start_time": "2022-07-07T15:41:51.446Z"
   },
   {
    "duration": 4,
    "start_time": "2022-07-07T15:44:19.411Z"
   },
   {
    "duration": 147929,
    "start_time": "2022-07-07T15:44:19.418Z"
   },
   {
    "duration": 3,
    "start_time": "2022-07-07T15:46:47.349Z"
   },
   {
    "duration": 14050,
    "start_time": "2022-07-07T15:46:47.354Z"
   },
   {
    "duration": 4,
    "start_time": "2022-07-07T15:47:01.406Z"
   },
   {
    "duration": 100,
    "start_time": "2022-07-07T15:47:01.502Z"
   },
   {
    "duration": 33,
    "start_time": "2022-07-07T15:47:01.604Z"
   },
   {
    "duration": 728,
    "start_time": "2022-07-07T15:47:01.638Z"
   },
   {
    "duration": 15,
    "start_time": "2022-07-07T15:47:02.368Z"
   },
   {
    "duration": 2023,
    "start_time": "2022-07-07T15:47:02.384Z"
   },
   {
    "duration": 151083,
    "start_time": "2022-07-07T15:47:04.408Z"
   },
   {
    "duration": 20,
    "start_time": "2022-07-07T15:49:35.493Z"
   },
   {
    "duration": 208,
    "start_time": "2022-07-07T15:49:35.515Z"
   },
   {
    "duration": 57,
    "start_time": "2022-07-07T15:55:02.792Z"
   },
   {
    "duration": 2213,
    "start_time": "2022-07-07T15:55:07.643Z"
   },
   {
    "duration": 45,
    "start_time": "2022-07-07T15:55:09.858Z"
   },
   {
    "duration": 23,
    "start_time": "2022-07-07T15:55:09.905Z"
   },
   {
    "duration": 7,
    "start_time": "2022-07-07T15:55:09.930Z"
   },
   {
    "duration": 7,
    "start_time": "2022-07-07T15:55:09.939Z"
   },
   {
    "duration": 9,
    "start_time": "2022-07-07T15:55:09.948Z"
   },
   {
    "duration": 13,
    "start_time": "2022-07-07T15:55:09.959Z"
   },
   {
    "duration": 27,
    "start_time": "2022-07-07T15:55:09.974Z"
   },
   {
    "duration": 351,
    "start_time": "2022-07-07T15:55:10.002Z"
   },
   {
    "duration": 271,
    "start_time": "2022-07-07T15:55:10.356Z"
   },
   {
    "duration": 3,
    "start_time": "2022-07-07T15:55:10.629Z"
   },
   {
    "duration": 703,
    "start_time": "2022-07-07T15:55:10.633Z"
   },
   {
    "duration": 280,
    "start_time": "2022-07-07T15:55:11.338Z"
   },
   {
    "duration": 256,
    "start_time": "2022-07-07T15:55:11.620Z"
   },
   {
    "duration": 4,
    "start_time": "2022-07-07T15:55:11.878Z"
   },
   {
    "duration": 61,
    "start_time": "2022-07-07T15:55:11.884Z"
   },
   {
    "duration": 9,
    "start_time": "2022-07-07T15:55:11.946Z"
   },
   {
    "duration": 7,
    "start_time": "2022-07-07T15:55:11.957Z"
   },
   {
    "duration": 2183,
    "start_time": "2022-07-07T15:55:11.965Z"
   },
   {
    "duration": 3,
    "start_time": "2022-07-07T15:55:14.150Z"
   },
   {
    "duration": 9,
    "start_time": "2022-07-07T15:55:14.155Z"
   },
   {
    "duration": 352591,
    "start_time": "2022-07-07T15:55:14.166Z"
   },
   {
    "duration": 6,
    "start_time": "2022-07-07T16:01:06.759Z"
   },
   {
    "duration": 1861,
    "start_time": "2022-07-07T16:01:06.766Z"
   },
   {
    "duration": 6,
    "start_time": "2022-07-07T16:01:08.629Z"
   },
   {
    "duration": 139870,
    "start_time": "2022-07-07T16:01:08.636Z"
   },
   {
    "duration": 5,
    "start_time": "2022-07-07T16:03:28.508Z"
   },
   {
    "duration": 1729122,
    "start_time": "2022-07-07T16:03:28.516Z"
   },
   {
    "duration": 4,
    "start_time": "2022-07-07T16:32:17.640Z"
   },
   {
    "duration": 68456,
    "start_time": "2022-07-07T16:32:17.646Z"
   },
   {
    "duration": 2,
    "start_time": "2022-07-07T16:33:26.104Z"
   },
   {
    "duration": 17,
    "start_time": "2022-07-07T16:33:26.108Z"
   },
   {
    "duration": 7,
    "start_time": "2022-07-07T16:33:26.127Z"
   },
   {
    "duration": 4140,
    "start_time": "2022-07-07T16:33:26.135Z"
   },
   {
    "duration": 14,
    "start_time": "2022-07-07T16:33:30.277Z"
   },
   {
    "duration": 1601,
    "start_time": "2022-07-07T16:33:30.300Z"
   },
   {
    "duration": 1716846,
    "start_time": "2022-07-07T16:33:31.903Z"
   },
   {
    "duration": 856,
    "start_time": "2022-07-07T17:02:08.751Z"
   },
   {
    "duration": 98,
    "start_time": "2022-07-07T17:02:09.609Z"
   }
  ],
  "kernelspec": {
   "display_name": "Python 3 (ipykernel)",
   "language": "python",
   "name": "python3"
  },
  "language_info": {
   "codemirror_mode": {
    "name": "ipython",
    "version": 3
   },
   "file_extension": ".py",
   "mimetype": "text/x-python",
   "name": "python",
   "nbconvert_exporter": "python",
   "pygments_lexer": "ipython3",
   "version": "3.9.5"
  },
  "toc": {
   "base_numbering": 1,
   "nav_menu": {},
   "number_sections": true,
   "sideBar": true,
   "skip_h1_title": true,
   "title_cell": "Table of Contents",
   "title_sidebar": "Contents",
   "toc_cell": false,
   "toc_position": {},
   "toc_section_display": true,
   "toc_window_display": false
  }
 },
 "nbformat": 4,
 "nbformat_minor": 2
}
